{
 "cells": [
  {
   "cell_type": "markdown",
   "metadata": {},
   "source": [
    "# 项目综合实战——上海地区租房信息分析"
   ]
  },
  {
   "cell_type": "markdown",
   "metadata": {},
   "source": [
    "# 一、读取数据"
   ]
  },
  {
   "cell_type": "markdown",
   "metadata": {},
   "source": [
    "## 1.1 获取数据"
   ]
  },
  {
   "cell_type": "code",
   "execution_count": 1,
   "metadata": {},
   "outputs": [],
   "source": [
    "import pandas as pd\n",
    "import matplotlib.pyplot as plt\n",
    "from pandas import DataFrame,Series"
   ]
  },
  {
   "cell_type": "markdown",
   "metadata": {},
   "source": [
    "#### *租房数据是由Scrapy框架构建的爬虫获取网页数据得到"
   ]
  },
  {
   "cell_type": "code",
   "execution_count": 2,
   "metadata": {},
   "outputs": [
    {
     "data": {
      "text/html": [
       "<div>\n",
       "<style scoped>\n",
       "    .dataframe tbody tr th:only-of-type {\n",
       "        vertical-align: middle;\n",
       "    }\n",
       "\n",
       "    .dataframe tbody tr th {\n",
       "        vertical-align: top;\n",
       "    }\n",
       "\n",
       "    .dataframe thead th {\n",
       "        text-align: right;\n",
       "    }\n",
       "</style>\n",
       "<table border=\"1\" class=\"dataframe\">\n",
       "  <thead>\n",
       "    <tr style=\"text-align: right;\">\n",
       "      <th></th>\n",
       "      <th>address</th>\n",
       "      <th>apartment</th>\n",
       "      <th>area</th>\n",
       "      <th>elevator</th>\n",
       "      <th>floor</th>\n",
       "      <th>house_name</th>\n",
       "      <th>orientation</th>\n",
       "      <th>price</th>\n",
       "      <th>rent</th>\n",
       "      <th>subway_line</th>\n",
       "      <th>title</th>\n",
       "    </tr>\n",
       "  </thead>\n",
       "  <tbody>\n",
       "    <tr>\n",
       "      <th>0</th>\n",
       "      <td>静安-永和 汶水路649弄</td>\n",
       "      <td>3室1厅</td>\n",
       "      <td>21平米</td>\n",
       "      <td>有电梯</td>\n",
       "      <td>低层(共88层)</td>\n",
       "      <td>永和一村</td>\n",
       "      <td>西南</td>\n",
       "      <td>2430 元/月</td>\n",
       "      <td>合租</td>\n",
       "      <td>7号线</td>\n",
       "      <td>精装温馨舒适  采光良好  干净舒适  拎包入住  看房方便</td>\n",
       "    </tr>\n",
       "    <tr>\n",
       "      <th>1</th>\n",
       "      <td>静安-曹家渡 延平路237弄</td>\n",
       "      <td>3室1厅</td>\n",
       "      <td>26平米</td>\n",
       "      <td>有电梯</td>\n",
       "      <td>低层(共14层)</td>\n",
       "      <td>延平路237弄小区</td>\n",
       "      <td>朝西</td>\n",
       "      <td>2060 元/月</td>\n",
       "      <td>合租</td>\n",
       "      <td>无</td>\n",
       "      <td>延平路237弄小区 精装大主卧押一付一家电齐全随时看房</td>\n",
       "    </tr>\n",
       "    <tr>\n",
       "      <th>2</th>\n",
       "      <td>黄浦-复兴公园 陕西南路151-185号(单),陕西南路187弄1-87号</td>\n",
       "      <td>1室2厅</td>\n",
       "      <td>120平米</td>\n",
       "      <td>无电梯</td>\n",
       "      <td>共3层</td>\n",
       "      <td>陕南邨</td>\n",
       "      <td>南北</td>\n",
       "      <td>10000 元/月</td>\n",
       "      <td>整租</td>\n",
       "      <td>1/10/12号线</td>\n",
       "      <td>复兴中路陕西南路老洋房一楼带花园适合美容美甲茶室皮肤管理等等</td>\n",
       "    </tr>\n",
       "    <tr>\n",
       "      <th>3</th>\n",
       "      <td>浦东-碧云 明月路888弄</td>\n",
       "      <td>6室3厅</td>\n",
       "      <td>680平米</td>\n",
       "      <td>有电梯</td>\n",
       "      <td>共3层</td>\n",
       "      <td>碧云别墅(南区)</td>\n",
       "      <td>朝南</td>\n",
       "      <td>65000 元/月</td>\n",
       "      <td>整租</td>\n",
       "      <td>9号线</td>\n",
       "      <td>内环品 牌小区 豪华装修 业主急租 可考虑办公 随时看房</td>\n",
       "    </tr>\n",
       "    <tr>\n",
       "      <th>4</th>\n",
       "      <td>浦东-金杨 德平路100弄</td>\n",
       "      <td>2室1厅</td>\n",
       "      <td>65平米</td>\n",
       "      <td>无电梯</td>\n",
       "      <td>中层(共6层)</td>\n",
       "      <td>罗山六村</td>\n",
       "      <td>朝南</td>\n",
       "      <td>5000 元/月</td>\n",
       "      <td>整租</td>\n",
       "      <td>6号线</td>\n",
       "      <td>可押一付一！6号线德平站！罗山六村！精装全明全配！随时看房！</td>\n",
       "    </tr>\n",
       "  </tbody>\n",
       "</table>\n",
       "</div>"
      ],
      "text/plain": [
       "                                 address apartment   area elevator     floor  \\\n",
       "0                          静安-永和 汶水路649弄      3室1厅   21平米      有电梯  低层(共88层)   \n",
       "1                         静安-曹家渡 延平路237弄      3室1厅   26平米      有电梯  低层(共14层)   \n",
       "2  黄浦-复兴公园 陕西南路151-185号(单),陕西南路187弄1-87号      1室2厅  120平米      无电梯       共3层   \n",
       "3                          浦东-碧云 明月路888弄      6室3厅  680平米      有电梯       共3层   \n",
       "4                          浦东-金杨 德平路100弄      2室1厅   65平米      无电梯   中层(共6层)   \n",
       "\n",
       "  house_name orientation      price rent subway_line  \\\n",
       "0       永和一村          西南   2430 元/月   合租         7号线   \n",
       "1  延平路237弄小区          朝西   2060 元/月   合租           无   \n",
       "2        陕南邨          南北  10000 元/月   整租   1/10/12号线   \n",
       "3   碧云别墅(南区)          朝南  65000 元/月   整租         9号线   \n",
       "4       罗山六村          朝南   5000 元/月   整租         6号线   \n",
       "\n",
       "                            title  \n",
       "0  精装温馨舒适  采光良好  干净舒适  拎包入住  看房方便  \n",
       "1     延平路237弄小区 精装大主卧押一付一家电齐全随时看房  \n",
       "2  复兴中路陕西南路老洋房一楼带花园适合美容美甲茶室皮肤管理等等  \n",
       "3    内环品 牌小区 豪华装修 业主急租 可考虑办公 随时看房  \n",
       "4  可押一付一！6号线德平站！罗山六村！精装全明全配！随时看房！  "
      ]
     },
     "execution_count": 2,
     "metadata": {},
     "output_type": "execute_result"
    }
   ],
   "source": [
    "data=pd.read_csv('zufang/zufang/house_rent_info.csv')\n",
    "data.head()"
   ]
  },
  {
   "cell_type": "markdown",
   "metadata": {},
   "source": [
    "## 1.2 查看数据"
   ]
  },
  {
   "cell_type": "code",
   "execution_count": 3,
   "metadata": {},
   "outputs": [
    {
     "name": "stdout",
     "output_type": "stream",
     "text": [
      "<class 'pandas.core.frame.DataFrame'>\n",
      "RangeIndex: 3120 entries, 0 to 3119\n",
      "Data columns (total 11 columns):\n",
      "address        3120 non-null object\n",
      "apartment      3120 non-null object\n",
      "area           3120 non-null object\n",
      "elevator       3120 non-null object\n",
      "floor          3120 non-null object\n",
      "house_name     3120 non-null object\n",
      "orientation    3120 non-null object\n",
      "price          3120 non-null object\n",
      "rent           3120 non-null object\n",
      "subway_line    3120 non-null object\n",
      "title          3120 non-null object\n",
      "dtypes: object(11)\n",
      "memory usage: 268.2+ KB\n"
     ]
    }
   ],
   "source": [
    "data.info()"
   ]
  },
  {
   "cell_type": "markdown",
   "metadata": {},
   "source": [
    "## 1.3 数据查重"
   ]
  },
  {
   "cell_type": "code",
   "execution_count": 4,
   "metadata": {},
   "outputs": [
    {
     "data": {
      "text/plain": [
       "False    2170\n",
       "True      950\n",
       "dtype: int64"
      ]
     },
     "execution_count": 4,
     "metadata": {},
     "output_type": "execute_result"
    }
   ],
   "source": [
    "data.duplicated().value_counts()"
   ]
  },
  {
   "cell_type": "markdown",
   "metadata": {},
   "source": [
    "## 1.4 清除重复项"
   ]
  },
  {
   "cell_type": "code",
   "execution_count": 5,
   "metadata": {},
   "outputs": [
    {
     "name": "stdout",
     "output_type": "stream",
     "text": [
      "<class 'pandas.core.frame.DataFrame'>\n",
      "Int64Index: 2170 entries, 0 to 3119\n",
      "Data columns (total 11 columns):\n",
      "address        2170 non-null object\n",
      "apartment      2170 non-null object\n",
      "area           2170 non-null object\n",
      "elevator       2170 non-null object\n",
      "floor          2170 non-null object\n",
      "house_name     2170 non-null object\n",
      "orientation    2170 non-null object\n",
      "price          2170 non-null object\n",
      "rent           2170 non-null object\n",
      "subway_line    2170 non-null object\n",
      "title          2170 non-null object\n",
      "dtypes: object(11)\n",
      "memory usage: 203.4+ KB\n"
     ]
    }
   ],
   "source": [
    "data.drop_duplicates(keep='first',inplace=True)\n",
    "data.info()"
   ]
  },
  {
   "cell_type": "markdown",
   "metadata": {},
   "source": [
    "#### 租房信息共 2170 条，列索引分别为：地址、户型、面积、电梯、楼层、小区名称、房屋朝向、价格、出租类型、附近地铁、出租标题"
   ]
  },
  {
   "cell_type": "markdown",
   "metadata": {},
   "source": [
    "# 二、数据清洗"
   ]
  },
  {
   "cell_type": "markdown",
   "metadata": {},
   "source": [
    "## 2.1 对地址 address* 列进行处理：分解地址，获取区域名称"
   ]
  },
  {
   "cell_type": "markdown",
   "metadata": {},
   "source": [
    "### 2.1.1 查看数据"
   ]
  },
  {
   "cell_type": "code",
   "execution_count": 6,
   "metadata": {},
   "outputs": [],
   "source": [
    "data.address=data.address.str.split('-').str[0]"
   ]
  },
  {
   "cell_type": "code",
   "execution_count": 7,
   "metadata": {},
   "outputs": [
    {
     "data": {
      "text/plain": [
       "浦东      392\n",
       "宝山      221\n",
       "普陀      205\n",
       "松江      204\n",
       "静安      196\n",
       "虹口      192\n",
       "闵行      151\n",
       "嘉定      135\n",
       "黄浦      129\n",
       "徐汇       89\n",
       "杨浦       89\n",
       "长宁       83\n",
       "青浦       57\n",
       "上海周边     18\n",
       "          5\n",
       "奉贤        3\n",
       "金山        1\n",
       "Name: address, dtype: int64"
      ]
     },
     "execution_count": 7,
     "metadata": {},
     "output_type": "execute_result"
    }
   ],
   "source": [
    "data.address.value_counts()"
   ]
  },
  {
   "cell_type": "markdown",
   "metadata": {},
   "source": [
    "#### 可以看出，有 5 条信息是没有区域信息，由于其数据量小，将这 5 条数据删除"
   ]
  },
  {
   "cell_type": "markdown",
   "metadata": {},
   "source": [
    "### 2.1.2 删除空值所在行"
   ]
  },
  {
   "cell_type": "code",
   "execution_count": 8,
   "metadata": {},
   "outputs": [
    {
     "data": {
      "text/plain": [
       "[60, 764, 1815, 2243, 3041]"
      ]
     },
     "execution_count": 8,
     "metadata": {},
     "output_type": "execute_result"
    }
   ],
   "source": [
    "data[(data.address=='')].index.tolist()"
   ]
  },
  {
   "cell_type": "code",
   "execution_count": 9,
   "metadata": {},
   "outputs": [],
   "source": [
    "data=data.drop([60, 764, 1815, 2243, 3041])"
   ]
  },
  {
   "cell_type": "code",
   "execution_count": 10,
   "metadata": {},
   "outputs": [
    {
     "data": {
      "text/plain": [
       "浦东      392\n",
       "宝山      221\n",
       "普陀      205\n",
       "松江      204\n",
       "静安      196\n",
       "虹口      192\n",
       "闵行      151\n",
       "嘉定      135\n",
       "黄浦      129\n",
       "杨浦       89\n",
       "徐汇       89\n",
       "长宁       83\n",
       "青浦       57\n",
       "上海周边     18\n",
       "奉贤        3\n",
       "金山        1\n",
       "Name: address, dtype: int64"
      ]
     },
     "execution_count": 10,
     "metadata": {},
     "output_type": "execute_result"
    }
   ],
   "source": [
    "data.address.value_counts()"
   ]
  },
  {
   "cell_type": "markdown",
   "metadata": {},
   "source": [
    "#### OK! 删除掉了"
   ]
  },
  {
   "cell_type": "markdown",
   "metadata": {},
   "source": [
    "## 2.2 对房屋户型 apartment* 进行处理：获取卧室数量"
   ]
  },
  {
   "cell_type": "markdown",
   "metadata": {},
   "source": [
    "### 2.2.1 查看数据"
   ]
  },
  {
   "cell_type": "code",
   "execution_count": 11,
   "metadata": {},
   "outputs": [
    {
     "data": {
      "text/plain": [
       "3室1厅    1101\n",
       "4室1厅     341\n",
       "2室1厅     340\n",
       "3室2厅     117\n",
       "2室2厅     107\n",
       "Name: apartment, dtype: int64"
      ]
     },
     "execution_count": 11,
     "metadata": {},
     "output_type": "execute_result"
    }
   ],
   "source": [
    "data.apartment.value_counts().head()"
   ]
  },
  {
   "cell_type": "markdown",
   "metadata": {},
   "source": [
    "### 2.2.2 拆分字段，新建一列 bed_room_counts* 赋予卧室数量"
   ]
  },
  {
   "cell_type": "code",
   "execution_count": 12,
   "metadata": {},
   "outputs": [
    {
     "data": {
      "text/plain": [
       "3    1219\n",
       "2     450\n",
       "4     375\n",
       "1      96\n",
       "5      18\n",
       "6       5\n",
       "8       2\n",
       "Name: bed_room_counts, dtype: int64"
      ]
     },
     "execution_count": 12,
     "metadata": {},
     "output_type": "execute_result"
    }
   ],
   "source": [
    "data['bed_room_counts']=data.apartment.str.split('室').str[0]\n",
    "data['bed_room_counts'].value_counts()"
   ]
  },
  {
   "cell_type": "markdown",
   "metadata": {},
   "source": [
    "### 2.2.3 转换字符类型"
   ]
  },
  {
   "cell_type": "code",
   "execution_count": 13,
   "metadata": {},
   "outputs": [],
   "source": [
    "data['bed_room_counts']=data['bed_room_counts'].astype(int)"
   ]
  },
  {
   "cell_type": "code",
   "execution_count": 14,
   "metadata": {},
   "outputs": [
    {
     "name": "stdout",
     "output_type": "stream",
     "text": [
      "<class 'pandas.core.frame.DataFrame'>\n",
      "Int64Index: 2165 entries, 0 to 3119\n",
      "Data columns (total 12 columns):\n",
      "address            2165 non-null object\n",
      "apartment          2165 non-null object\n",
      "area               2165 non-null object\n",
      "elevator           2165 non-null object\n",
      "floor              2165 non-null object\n",
      "house_name         2165 non-null object\n",
      "orientation        2165 non-null object\n",
      "price              2165 non-null object\n",
      "rent               2165 non-null object\n",
      "subway_line        2165 non-null object\n",
      "title              2165 non-null object\n",
      "bed_room_counts    2165 non-null int64\n",
      "dtypes: int64(1), object(11)\n",
      "memory usage: 219.9+ KB\n"
     ]
    }
   ],
   "source": [
    "data.info()"
   ]
  },
  {
   "cell_type": "markdown",
   "metadata": {},
   "source": [
    "## 2.3 对室内面积 area* 列进行处理：转换为数值类型"
   ]
  },
  {
   "cell_type": "markdown",
   "metadata": {},
   "source": [
    "### 2.3.1 查看是数据"
   ]
  },
  {
   "cell_type": "code",
   "execution_count": 15,
   "metadata": {},
   "outputs": [
    {
     "data": {
      "text/plain": [
       "0     21平米\n",
       "1     26平米\n",
       "2    120平米\n",
       "3    680平米\n",
       "4     65平米\n",
       "Name: area, dtype: object"
      ]
     },
     "execution_count": 15,
     "metadata": {},
     "output_type": "execute_result"
    }
   ],
   "source": [
    "data.area.head()"
   ]
  },
  {
   "cell_type": "markdown",
   "metadata": {},
   "source": [
    "### 2.3.2 拆分出数值字段，并覆盖原来的列"
   ]
  },
  {
   "cell_type": "code",
   "execution_count": 16,
   "metadata": {},
   "outputs": [],
   "source": [
    "data['area']=data['area'].str.split('平').str[0]"
   ]
  },
  {
   "cell_type": "code",
   "execution_count": 17,
   "metadata": {},
   "outputs": [
    {
     "data": {
      "text/plain": [
       "0     21\n",
       "1     26\n",
       "2    120\n",
       "3    680\n",
       "4     65\n",
       "Name: area, dtype: object"
      ]
     },
     "execution_count": 17,
     "metadata": {},
     "output_type": "execute_result"
    }
   ],
   "source": [
    "data.area.head()"
   ]
  },
  {
   "cell_type": "markdown",
   "metadata": {},
   "source": [
    "### 2.3.3 转换字符类型"
   ]
  },
  {
   "cell_type": "code",
   "execution_count": 18,
   "metadata": {},
   "outputs": [],
   "source": [
    "data['area']=data['area'].astype(int)"
   ]
  },
  {
   "cell_type": "code",
   "execution_count": 19,
   "metadata": {},
   "outputs": [
    {
     "data": {
      "text/plain": [
       "0     21\n",
       "1     26\n",
       "2    120\n",
       "3    680\n",
       "4     65\n",
       "Name: area, dtype: int64"
      ]
     },
     "execution_count": 19,
     "metadata": {},
     "output_type": "execute_result"
    }
   ],
   "source": [
    "data.area.head()"
   ]
  },
  {
   "cell_type": "markdown",
   "metadata": {},
   "source": [
    "## 2.4 对楼层 floor* 列进行处理：统一单位属性"
   ]
  },
  {
   "cell_type": "markdown",
   "metadata": {},
   "source": [
    "### 2.4.1 查看数据"
   ]
  },
  {
   "cell_type": "code",
   "execution_count": 20,
   "metadata": {},
   "outputs": [
    {
     "data": {
      "text/plain": [
       "中层(共13层)    129\n",
       "低层(共18层)    105\n",
       "中层(共18层)    102\n",
       "中层(共14层)     90\n",
       "中层(共12层)     87\n",
       "Name: floor, dtype: int64"
      ]
     },
     "execution_count": 20,
     "metadata": {},
     "output_type": "execute_result"
    }
   ],
   "source": [
    "a_1=data.floor.value_counts()\n",
    "a_1.head()"
   ]
  },
  {
   "cell_type": "markdown",
   "metadata": {},
   "source": [
    "#### 可以看出，有的楼层并没有标注是高层还是低层"
   ]
  },
  {
   "cell_type": "markdown",
   "metadata": {},
   "source": [
    "### 2.4.2 找出未标注楼层高低的数据，并添加楼层高低标注"
   ]
  },
  {
   "cell_type": "code",
   "execution_count": 21,
   "metadata": {},
   "outputs": [
    {
     "name": "stdout",
     "output_type": "stream",
     "text": [
      "共3层\n",
      "共2层\n",
      "共4层\n",
      "共5层\n",
      "共1层\n"
     ]
    }
   ],
   "source": [
    "for i in a_1.index:\n",
    "    if len(str(i))<7:\n",
    "        print(i)"
   ]
  },
  {
   "cell_type": "markdown",
   "metadata": {},
   "source": [
    "#### *可以看出，有 5 条数据未标注，而且这些楼层均为低层"
   ]
  },
  {
   "cell_type": "code",
   "execution_count": 22,
   "metadata": {},
   "outputs": [
    {
     "data": {
      "text/plain": [
       "中层(共13层)    129\n",
       "低层(共18层)    105\n",
       "中层(共18层)    102\n",
       "中层(共14层)     90\n",
       "中层(共12层)     87\n",
       "Name: floor, dtype: int64"
      ]
     },
     "execution_count": 22,
     "metadata": {},
     "output_type": "execute_result"
    }
   ],
   "source": [
    "for i in data['floor']:\n",
    "    if len(i)<7:\n",
    "        data.loc[data['floor']==i,'floor']='低层('+i+')'\n",
    "data.floor.value_counts().head()"
   ]
  },
  {
   "cell_type": "markdown",
   "metadata": {},
   "source": [
    "### 2.4.2 分离出楼层属性，并新建两列，存储楼层高低和总楼层数"
   ]
  },
  {
   "cell_type": "code",
   "execution_count": 23,
   "metadata": {},
   "outputs": [
    {
     "data": {
      "text/plain": [
       "中层    1036\n",
       "低层     887\n",
       "高层     242\n",
       "Name: high_or_low, dtype: int64"
      ]
     },
     "execution_count": 23,
     "metadata": {},
     "output_type": "execute_result"
    }
   ],
   "source": [
    "data['high_or_low']=data['floor'].str.split('(').str[0]\n",
    "data.high_or_low.value_counts()"
   ]
  },
  {
   "cell_type": "code",
   "execution_count": 24,
   "metadata": {},
   "outputs": [
    {
     "data": {
      "text/plain": [
       "0    88\n",
       "1    14\n",
       "2     3\n",
       "3     3\n",
       "4     6\n",
       "Name: building_height, dtype: object"
      ]
     },
     "execution_count": 24,
     "metadata": {},
     "output_type": "execute_result"
    }
   ],
   "source": [
    "data['building_height']=data['floor'].str.split('共').str[1].str.split('层').str[0]\n",
    "data.building_height.head()"
   ]
  },
  {
   "cell_type": "markdown",
   "metadata": {},
   "source": [
    "#### 检查拆分后有无空值 "
   ]
  },
  {
   "cell_type": "code",
   "execution_count": 25,
   "metadata": {},
   "outputs": [
    {
     "data": {
      "text/plain": [
       "False    2165\n",
       "Name: building_height, dtype: int64"
      ]
     },
     "execution_count": 25,
     "metadata": {},
     "output_type": "execute_result"
    }
   ],
   "source": [
    "data.building_height.isnull().value_counts()"
   ]
  },
  {
   "cell_type": "markdown",
   "metadata": {},
   "source": [
    "#### *没有空值"
   ]
  },
  {
   "cell_type": "markdown",
   "metadata": {},
   "source": [
    "### 2.4.3 转换数据类型"
   ]
  },
  {
   "cell_type": "code",
   "execution_count": 26,
   "metadata": {},
   "outputs": [],
   "source": [
    "data['building_height']=data['building_height'].astype(int)"
   ]
  },
  {
   "cell_type": "markdown",
   "metadata": {},
   "source": [
    "## 2.4 对房屋朝向 orientation* 列进行处理"
   ]
  },
  {
   "cell_type": "markdown",
   "metadata": {},
   "source": [
    "### 2.4.1 查看数据"
   ]
  },
  {
   "cell_type": "code",
   "execution_count": 27,
   "metadata": {},
   "outputs": [
    {
     "data": {
      "text/plain": [
       "朝南    725\n",
       "东南    617\n",
       "朝西    318\n",
       "南北    170\n",
       "朝东    168\n",
       "西南    142\n",
       "朝北     19\n",
       "东北      4\n",
       "西北      2\n",
       "Name: orientation, dtype: int64"
      ]
     },
     "execution_count": 27,
     "metadata": {},
     "output_type": "execute_result"
    }
   ],
   "source": [
    "data.orientation.value_counts()"
   ]
  },
  {
   "cell_type": "markdown",
   "metadata": {},
   "source": [
    "### 2.4.2 将【朝北】并入【南北】分类"
   ]
  },
  {
   "cell_type": "code",
   "execution_count": 28,
   "metadata": {},
   "outputs": [],
   "source": [
    "for i in data['orientation']:\n",
    "    if i=='朝北':\n",
    "        data.loc[data['orientation']=='朝北','orientation']='南北'"
   ]
  },
  {
   "cell_type": "code",
   "execution_count": 29,
   "metadata": {},
   "outputs": [
    {
     "data": {
      "text/plain": [
       "朝南    725\n",
       "东南    617\n",
       "朝西    318\n",
       "南北    189\n",
       "朝东    168\n",
       "西南    142\n",
       "东北      4\n",
       "西北      2\n",
       "Name: orientation, dtype: int64"
      ]
     },
     "execution_count": 29,
     "metadata": {},
     "output_type": "execute_result"
    }
   ],
   "source": [
    "data.orientation.value_counts()"
   ]
  },
  {
   "cell_type": "markdown",
   "metadata": {},
   "source": [
    "## 2.4 对租金 price* 列进行处理"
   ]
  },
  {
   "cell_type": "markdown",
   "metadata": {},
   "source": [
    "### 2.4.1 查看数据"
   ]
  },
  {
   "cell_type": "code",
   "execution_count": 30,
   "metadata": {},
   "outputs": [
    {
     "data": {
      "text/plain": [
       "0     2430 元/月\n",
       "1     2060 元/月\n",
       "2    10000 元/月\n",
       "3    65000 元/月\n",
       "4     5000 元/月\n",
       "Name: price, dtype: object"
      ]
     },
     "execution_count": 30,
     "metadata": {},
     "output_type": "execute_result"
    }
   ],
   "source": [
    "data.price.head()"
   ]
  },
  {
   "cell_type": "markdown",
   "metadata": {},
   "source": [
    "### 2.4.2 取出数值字段，并覆盖原来的租金列"
   ]
  },
  {
   "cell_type": "code",
   "execution_count": 31,
   "metadata": {},
   "outputs": [
    {
     "data": {
      "text/plain": [
       "count     2165\n",
       "unique     326\n",
       "top       1800\n",
       "freq        40\n",
       "Name: price, dtype: object"
      ]
     },
     "execution_count": 31,
     "metadata": {},
     "output_type": "execute_result"
    }
   ],
   "source": [
    "new_price=data['price'].str.split(' ').str[0]\n",
    "new_price.describe()"
   ]
  },
  {
   "cell_type": "markdown",
   "metadata": {},
   "source": [
    "#### * 提取完成，没有空值"
   ]
  },
  {
   "cell_type": "code",
   "execution_count": 32,
   "metadata": {},
   "outputs": [],
   "source": [
    "data['price']=new_price.astype(int)"
   ]
  },
  {
   "cell_type": "code",
   "execution_count": 33,
   "metadata": {},
   "outputs": [
    {
     "data": {
      "text/plain": [
       "0     2430\n",
       "1     2060\n",
       "2    10000\n",
       "3    65000\n",
       "4     5000\n",
       "Name: price, dtype: int64"
      ]
     },
     "execution_count": 33,
     "metadata": {},
     "output_type": "execute_result"
    }
   ],
   "source": [
    "data.price.head()"
   ]
  },
  {
   "cell_type": "markdown",
   "metadata": {},
   "source": [
    "## 2.5 对附近地铁线 subway_line* 列进行处理"
   ]
  },
  {
   "cell_type": "markdown",
   "metadata": {},
   "source": [
    "### 2.5.1 查看数据"
   ]
  },
  {
   "cell_type": "code",
   "execution_count": 34,
   "metadata": {},
   "outputs": [
    {
     "data": {
      "text/plain": [
       "0           7号线\n",
       "1             无\n",
       "2     1/10/12号线\n",
       "3           9号线\n",
       "4           6号线\n",
       "5           9号线\n",
       "6        7/13号线\n",
       "7         1/5号线\n",
       "8             无\n",
       "9          11号线\n",
       "10    2/10/12号线\n",
       "11         浦江号线\n",
       "12            无\n",
       "13          6号线\n",
       "14          9号线\n",
       "Name: subway_line, dtype: object"
      ]
     },
     "execution_count": 34,
     "metadata": {},
     "output_type": "execute_result"
    }
   ],
   "source": [
    "data.subway_line.head(15)"
   ]
  },
  {
   "cell_type": "markdown",
   "metadata": {},
   "source": [
    "### 2.5.2 拆分目标字段"
   ]
  },
  {
   "cell_type": "code",
   "execution_count": 35,
   "metadata": {},
   "outputs": [
    {
     "data": {
      "text/plain": [
       "0           7\n",
       "1           无\n",
       "2     1/10/12\n",
       "3           9\n",
       "4           6\n",
       "5           9\n",
       "6        7/13\n",
       "7         1/5\n",
       "8           无\n",
       "9          11\n",
       "10    2/10/12\n",
       "11         浦江\n",
       "12          无\n",
       "13          6\n",
       "14          9\n",
       "15       9/13\n",
       "16          无\n",
       "17          无\n",
       "18       4/10\n",
       "19         17\n",
       "20          无\n",
       "21          1\n",
       "22          无\n",
       "23       8/12\n",
       "24       6/11\n",
       "25          无\n",
       "26         11\n",
       "27          8\n",
       "28    5南延伸段/5\n",
       "29          9\n",
       "Name: subway_line, dtype: object"
      ]
     },
     "execution_count": 35,
     "metadata": {},
     "output_type": "execute_result"
    }
   ],
   "source": [
    "sub=data.subway_line.str.split('号').str[0]\n",
    "sub.head(30)"
   ]
  },
  {
   "cell_type": "markdown",
   "metadata": {},
   "source": [
    "### 2.5.3 转置Series"
   ]
  },
  {
   "cell_type": "code",
   "execution_count": 36,
   "metadata": {},
   "outputs": [
    {
     "data": {
      "text/html": [
       "<div>\n",
       "<style scoped>\n",
       "    .dataframe tbody tr th:only-of-type {\n",
       "        vertical-align: middle;\n",
       "    }\n",
       "\n",
       "    .dataframe tbody tr th {\n",
       "        vertical-align: top;\n",
       "    }\n",
       "\n",
       "    .dataframe thead th {\n",
       "        text-align: right;\n",
       "    }\n",
       "</style>\n",
       "<table border=\"1\" class=\"dataframe\">\n",
       "  <thead>\n",
       "    <tr style=\"text-align: right;\">\n",
       "      <th></th>\n",
       "      <th>level_0</th>\n",
       "      <th>level_1</th>\n",
       "      <th>0</th>\n",
       "    </tr>\n",
       "  </thead>\n",
       "  <tbody>\n",
       "    <tr>\n",
       "      <th>0</th>\n",
       "      <td>0</td>\n",
       "      <td>0</td>\n",
       "      <td>7</td>\n",
       "    </tr>\n",
       "    <tr>\n",
       "      <th>1</th>\n",
       "      <td>0</td>\n",
       "      <td>1</td>\n",
       "      <td>无</td>\n",
       "    </tr>\n",
       "    <tr>\n",
       "      <th>2</th>\n",
       "      <td>0</td>\n",
       "      <td>2</td>\n",
       "      <td>1</td>\n",
       "    </tr>\n",
       "    <tr>\n",
       "      <th>3</th>\n",
       "      <td>0</td>\n",
       "      <td>3</td>\n",
       "      <td>9</td>\n",
       "    </tr>\n",
       "    <tr>\n",
       "      <th>4</th>\n",
       "      <td>0</td>\n",
       "      <td>4</td>\n",
       "      <td>6</td>\n",
       "    </tr>\n",
       "  </tbody>\n",
       "</table>\n",
       "</div>"
      ],
      "text/plain": [
       "   level_0  level_1  0\n",
       "0        0        0  7\n",
       "1        0        1  无\n",
       "2        0        2  1\n",
       "3        0        3  9\n",
       "4        0        4  6"
      ]
     },
     "execution_count": 36,
     "metadata": {},
     "output_type": "execute_result"
    }
   ],
   "source": [
    "sub_count=sub.str.split('/').apply(Series).unstack().reset_index()\n",
    "sub_count.head()"
   ]
  },
  {
   "cell_type": "markdown",
   "metadata": {},
   "source": [
    "### 2.5.4 设置列索引，并删除多余的 level_0* 列"
   ]
  },
  {
   "cell_type": "code",
   "execution_count": 37,
   "metadata": {},
   "outputs": [],
   "source": [
    "sub_count.columns=['level_0','level_1','line']"
   ]
  },
  {
   "cell_type": "code",
   "execution_count": 38,
   "metadata": {},
   "outputs": [
    {
     "data": {
      "text/html": [
       "<div>\n",
       "<style scoped>\n",
       "    .dataframe tbody tr th:only-of-type {\n",
       "        vertical-align: middle;\n",
       "    }\n",
       "\n",
       "    .dataframe tbody tr th {\n",
       "        vertical-align: top;\n",
       "    }\n",
       "\n",
       "    .dataframe thead th {\n",
       "        text-align: right;\n",
       "    }\n",
       "</style>\n",
       "<table border=\"1\" class=\"dataframe\">\n",
       "  <thead>\n",
       "    <tr style=\"text-align: right;\">\n",
       "      <th></th>\n",
       "      <th>level_0</th>\n",
       "      <th>level_1</th>\n",
       "      <th>line</th>\n",
       "    </tr>\n",
       "  </thead>\n",
       "  <tbody>\n",
       "    <tr>\n",
       "      <th>0</th>\n",
       "      <td>0</td>\n",
       "      <td>0</td>\n",
       "      <td>7</td>\n",
       "    </tr>\n",
       "    <tr>\n",
       "      <th>1</th>\n",
       "      <td>0</td>\n",
       "      <td>1</td>\n",
       "      <td>无</td>\n",
       "    </tr>\n",
       "    <tr>\n",
       "      <th>2</th>\n",
       "      <td>0</td>\n",
       "      <td>2</td>\n",
       "      <td>1</td>\n",
       "    </tr>\n",
       "    <tr>\n",
       "      <th>3</th>\n",
       "      <td>0</td>\n",
       "      <td>3</td>\n",
       "      <td>9</td>\n",
       "    </tr>\n",
       "    <tr>\n",
       "      <th>4</th>\n",
       "      <td>0</td>\n",
       "      <td>4</td>\n",
       "      <td>6</td>\n",
       "    </tr>\n",
       "  </tbody>\n",
       "</table>\n",
       "</div>"
      ],
      "text/plain": [
       "   level_0  level_1 line\n",
       "0        0        0    7\n",
       "1        0        1    无\n",
       "2        0        2    1\n",
       "3        0        3    9\n",
       "4        0        4    6"
      ]
     },
     "execution_count": 38,
     "metadata": {},
     "output_type": "execute_result"
    }
   ],
   "source": [
    "sub_count.head()"
   ]
  },
  {
   "cell_type": "code",
   "execution_count": 39,
   "metadata": {},
   "outputs": [
    {
     "data": {
      "text/html": [
       "<div>\n",
       "<style scoped>\n",
       "    .dataframe tbody tr th:only-of-type {\n",
       "        vertical-align: middle;\n",
       "    }\n",
       "\n",
       "    .dataframe tbody tr th {\n",
       "        vertical-align: top;\n",
       "    }\n",
       "\n",
       "    .dataframe thead th {\n",
       "        text-align: right;\n",
       "    }\n",
       "</style>\n",
       "<table border=\"1\" class=\"dataframe\">\n",
       "  <thead>\n",
       "    <tr style=\"text-align: right;\">\n",
       "      <th></th>\n",
       "      <th>level_1</th>\n",
       "      <th>line</th>\n",
       "    </tr>\n",
       "  </thead>\n",
       "  <tbody>\n",
       "    <tr>\n",
       "      <th>0</th>\n",
       "      <td>0</td>\n",
       "      <td>7</td>\n",
       "    </tr>\n",
       "    <tr>\n",
       "      <th>1</th>\n",
       "      <td>1</td>\n",
       "      <td>无</td>\n",
       "    </tr>\n",
       "    <tr>\n",
       "      <th>2</th>\n",
       "      <td>2</td>\n",
       "      <td>1</td>\n",
       "    </tr>\n",
       "    <tr>\n",
       "      <th>3</th>\n",
       "      <td>3</td>\n",
       "      <td>9</td>\n",
       "    </tr>\n",
       "    <tr>\n",
       "      <th>4</th>\n",
       "      <td>4</td>\n",
       "      <td>6</td>\n",
       "    </tr>\n",
       "  </tbody>\n",
       "</table>\n",
       "</div>"
      ],
      "text/plain": [
       "   level_1 line\n",
       "0        0    7\n",
       "1        1    无\n",
       "2        2    1\n",
       "3        3    9\n",
       "4        4    6"
      ]
     },
     "execution_count": 39,
     "metadata": {},
     "output_type": "execute_result"
    }
   ],
   "source": [
    "sub_count.drop('level_0',axis=1).head()"
   ]
  },
  {
   "cell_type": "markdown",
   "metadata": {},
   "source": [
    "### 2.5.5 按地铁线对房源数量求和"
   ]
  },
  {
   "cell_type": "code",
   "execution_count": 40,
   "metadata": {},
   "outputs": [
    {
     "data": {
      "text/html": [
       "<div>\n",
       "<style scoped>\n",
       "    .dataframe tbody tr th:only-of-type {\n",
       "        vertical-align: middle;\n",
       "    }\n",
       "\n",
       "    .dataframe tbody tr th {\n",
       "        vertical-align: top;\n",
       "    }\n",
       "\n",
       "    .dataframe thead th {\n",
       "        text-align: right;\n",
       "    }\n",
       "</style>\n",
       "<table border=\"1\" class=\"dataframe\">\n",
       "  <thead>\n",
       "    <tr style=\"text-align: right;\">\n",
       "      <th></th>\n",
       "      <th>sub_line</th>\n",
       "      <th>counts</th>\n",
       "    </tr>\n",
       "  </thead>\n",
       "  <tbody>\n",
       "    <tr>\n",
       "      <th>0</th>\n",
       "      <td>无</td>\n",
       "      <td>553</td>\n",
       "    </tr>\n",
       "    <tr>\n",
       "      <th>1</th>\n",
       "      <td>11</td>\n",
       "      <td>241</td>\n",
       "    </tr>\n",
       "    <tr>\n",
       "      <th>2</th>\n",
       "      <td>1</td>\n",
       "      <td>235</td>\n",
       "    </tr>\n",
       "    <tr>\n",
       "      <th>3</th>\n",
       "      <td>10</td>\n",
       "      <td>227</td>\n",
       "    </tr>\n",
       "    <tr>\n",
       "      <th>4</th>\n",
       "      <td>9</td>\n",
       "      <td>221</td>\n",
       "    </tr>\n",
       "  </tbody>\n",
       "</table>\n",
       "</div>"
      ],
      "text/plain": [
       "  sub_line  counts\n",
       "0        无     553\n",
       "1       11     241\n",
       "2        1     235\n",
       "3       10     227\n",
       "4        9     221"
      ]
     },
     "execution_count": 40,
     "metadata": {},
     "output_type": "execute_result"
    }
   ],
   "source": [
    "sub_counts=sub_count.line.value_counts().reset_index()\n",
    "sub_counts.columns=['sub_line','counts']\n",
    "sub_counts.head()"
   ]
  },
  {
   "cell_type": "markdown",
   "metadata": {},
   "source": [
    "# 三、数据分析"
   ]
  },
  {
   "cell_type": "markdown",
   "metadata": {},
   "source": [
    "## 3.1 整体数值型数据分析"
   ]
  },
  {
   "cell_type": "code",
   "execution_count": 41,
   "metadata": {},
   "outputs": [
    {
     "data": {
      "text/html": [
       "<div>\n",
       "<style scoped>\n",
       "    .dataframe tbody tr th:only-of-type {\n",
       "        vertical-align: middle;\n",
       "    }\n",
       "\n",
       "    .dataframe tbody tr th {\n",
       "        vertical-align: top;\n",
       "    }\n",
       "\n",
       "    .dataframe thead th {\n",
       "        text-align: right;\n",
       "    }\n",
       "</style>\n",
       "<table border=\"1\" class=\"dataframe\">\n",
       "  <thead>\n",
       "    <tr style=\"text-align: right;\">\n",
       "      <th></th>\n",
       "      <th>area</th>\n",
       "      <th>price</th>\n",
       "      <th>bed_room_counts</th>\n",
       "      <th>building_height</th>\n",
       "    </tr>\n",
       "  </thead>\n",
       "  <tbody>\n",
       "    <tr>\n",
       "      <th>count</th>\n",
       "      <td>2165.000000</td>\n",
       "      <td>2165.000000</td>\n",
       "      <td>2165.000000</td>\n",
       "      <td>2165.000000</td>\n",
       "    </tr>\n",
       "    <tr>\n",
       "      <th>mean</th>\n",
       "      <td>34.017090</td>\n",
       "      <td>3277.306236</td>\n",
       "      <td>2.904850</td>\n",
       "      <td>17.927483</td>\n",
       "    </tr>\n",
       "    <tr>\n",
       "      <th>std</th>\n",
       "      <td>51.267251</td>\n",
       "      <td>6802.225424</td>\n",
       "      <td>0.791708</td>\n",
       "      <td>12.686822</td>\n",
       "    </tr>\n",
       "    <tr>\n",
       "      <th>min</th>\n",
       "      <td>10.000000</td>\n",
       "      <td>514.000000</td>\n",
       "      <td>1.000000</td>\n",
       "      <td>1.000000</td>\n",
       "    </tr>\n",
       "    <tr>\n",
       "      <th>25%</th>\n",
       "      <td>15.000000</td>\n",
       "      <td>1450.000000</td>\n",
       "      <td>2.000000</td>\n",
       "      <td>12.000000</td>\n",
       "    </tr>\n",
       "    <tr>\n",
       "      <th>50%</th>\n",
       "      <td>19.000000</td>\n",
       "      <td>1820.000000</td>\n",
       "      <td>3.000000</td>\n",
       "      <td>16.000000</td>\n",
       "    </tr>\n",
       "    <tr>\n",
       "      <th>75%</th>\n",
       "      <td>23.000000</td>\n",
       "      <td>2300.000000</td>\n",
       "      <td>3.000000</td>\n",
       "      <td>20.000000</td>\n",
       "    </tr>\n",
       "    <tr>\n",
       "      <th>max</th>\n",
       "      <td>680.000000</td>\n",
       "      <td>150000.000000</td>\n",
       "      <td>8.000000</td>\n",
       "      <td>93.000000</td>\n",
       "    </tr>\n",
       "  </tbody>\n",
       "</table>\n",
       "</div>"
      ],
      "text/plain": [
       "              area          price  bed_room_counts  building_height\n",
       "count  2165.000000    2165.000000      2165.000000      2165.000000\n",
       "mean     34.017090    3277.306236         2.904850        17.927483\n",
       "std      51.267251    6802.225424         0.791708        12.686822\n",
       "min      10.000000     514.000000         1.000000         1.000000\n",
       "25%      15.000000    1450.000000         2.000000        12.000000\n",
       "50%      19.000000    1820.000000         3.000000        16.000000\n",
       "75%      23.000000    2300.000000         3.000000        20.000000\n",
       "max     680.000000  150000.000000         8.000000        93.000000"
      ]
     },
     "execution_count": 41,
     "metadata": {},
     "output_type": "execute_result"
    }
   ],
   "source": [
    "data.describe()"
   ]
  },
  {
   "cell_type": "markdown",
   "metadata": {},
   "source": [
    "*** 结果分析 ***\n",
    "- 住房面积最小为 10m² ，最大为 680m²\n",
    "- 上海租房价格平均值为 3277.3 元/月，而最便宜的为 514 元/月\n",
    "- 房屋结构最多的为 8 居室，平均为 3 居室\n",
    "- 最高楼层高度为 93 层，平均为 18 层"
   ]
  },
  {
   "cell_type": "markdown",
   "metadata": {},
   "source": [
    "## 3.2 各区房源数量"
   ]
  },
  {
   "cell_type": "code",
   "execution_count": 42,
   "metadata": {},
   "outputs": [
    {
     "data": {
      "text/html": [
       "<script>\n",
       "    require.config({\n",
       "        paths: {\n",
       "            'echarts': '/nbextensions/echarts/echarts.min'\n",
       "        }\n",
       "    });\n",
       "</script>\n",
       "    <div id=\"97a33506e2f64eadbfd5c21306e831ad\" style=\"width:800px;height:400px;\"></div>\n",
       "\n",
       "\n",
       "<script>\n",
       "    require(['echarts'], function(echarts) {\n",
       "        \n",
       "var myChart_97a33506e2f64eadbfd5c21306e831ad = echarts.init(document.getElementById('97a33506e2f64eadbfd5c21306e831ad'), 'light', {renderer: 'canvas'});\n",
       "\n",
       "var option_97a33506e2f64eadbfd5c21306e831ad = {\n",
       "    \"title\": [\n",
       "        {\n",
       "            \"text\": \"\\u5404\\u533a\\u623f\\u6e90\\u6570\\u91cf\\u67f1\\u72b6\\u56fe\\u56fe\",\n",
       "            \"left\": \"auto\",\n",
       "            \"top\": \"auto\",\n",
       "            \"textStyle\": {\n",
       "                \"fontSize\": 18\n",
       "            },\n",
       "            \"subtextStyle\": {\n",
       "                \"fontSize\": 12\n",
       "            }\n",
       "        }\n",
       "    ],\n",
       "    \"toolbox\": {\n",
       "        \"show\": true,\n",
       "        \"orient\": \"vertical\",\n",
       "        \"left\": \"95%\",\n",
       "        \"top\": \"center\",\n",
       "        \"feature\": {\n",
       "            \"saveAsImage\": {\n",
       "                \"show\": true,\n",
       "                \"title\": \"save as image\"\n",
       "            },\n",
       "            \"restore\": {\n",
       "                \"show\": true,\n",
       "                \"title\": \"restore\"\n",
       "            },\n",
       "            \"dataView\": {\n",
       "                \"show\": true,\n",
       "                \"title\": \"data view\"\n",
       "            },\n",
       "            \"magicType\": {\n",
       "                \"show\": true,\n",
       "                \"type\": [\n",
       "                    \"line\",\n",
       "                    \"bar\",\n",
       "                    \"stack\",\n",
       "                    \"tiled\"\n",
       "                ],\n",
       "                \"title\": {\n",
       "                    \"line\": \"\\u6298\\u7ebf\\u56fe\",\n",
       "                    \"bar\": \"\\u67f1\\u72b6\\u56fe\",\n",
       "                    \"stack\": \"\\u5806\\u53e0\",\n",
       "                    \"tiled\": \"\\u5e73\\u94fa\"\n",
       "                }\n",
       "            },\n",
       "            \"dataZoom\": {\n",
       "                \"show\": true,\n",
       "                \"title\": {\n",
       "                    \"zoom\": \"\\u533a\\u57df\\u7f29\\u653e\",\n",
       "                    \"back\": \"\\u7f29\\u653e\\u8fd8\\u539f\"\n",
       "                }\n",
       "            }\n",
       "        }\n",
       "    },\n",
       "    \"series_id\": 2542843,\n",
       "    \"tooltip\": {\n",
       "        \"trigger\": \"item\",\n",
       "        \"triggerOn\": \"mousemove|click\",\n",
       "        \"axisPointer\": {\n",
       "            \"type\": \"line\"\n",
       "        },\n",
       "        \"textStyle\": {\n",
       "            \"fontSize\": 14\n",
       "        },\n",
       "        \"backgroundColor\": \"rgba(50,50,50,0.7)\",\n",
       "        \"borderColor\": \"#333\",\n",
       "        \"borderWidth\": 0\n",
       "    },\n",
       "    \"series\": [\n",
       "        {\n",
       "            \"type\": \"bar\",\n",
       "            \"name\": \"\\u623f\\u6e90\\u6570\\u91cf\",\n",
       "            \"data\": [\n",
       "                392.0,\n",
       "                221.0,\n",
       "                205.0,\n",
       "                204.0,\n",
       "                196.0,\n",
       "                192.0,\n",
       "                151.0,\n",
       "                135.0,\n",
       "                129.0,\n",
       "                89.0,\n",
       "                89.0,\n",
       "                83.0,\n",
       "                57.0,\n",
       "                18.0,\n",
       "                3.0,\n",
       "                1.0\n",
       "            ],\n",
       "            \"barCategoryGap\": \"20%\",\n",
       "            \"label\": {\n",
       "                \"normal\": {\n",
       "                    \"show\": false,\n",
       "                    \"position\": \"top\",\n",
       "                    \"textStyle\": {\n",
       "                        \"fontSize\": 12\n",
       "                    }\n",
       "                },\n",
       "                \"emphasis\": {\n",
       "                    \"show\": true,\n",
       "                    \"textStyle\": {\n",
       "                        \"fontSize\": 12\n",
       "                    }\n",
       "                }\n",
       "            },\n",
       "            \"markPoint\": {\n",
       "                \"data\": []\n",
       "            },\n",
       "            \"markLine\": {\n",
       "                \"data\": []\n",
       "            },\n",
       "            \"seriesId\": 2542843\n",
       "        }\n",
       "    ],\n",
       "    \"legend\": [\n",
       "        {\n",
       "            \"data\": [\n",
       "                \"\\u623f\\u6e90\\u6570\\u91cf\"\n",
       "            ],\n",
       "            \"selectedMode\": \"multiple\",\n",
       "            \"show\": true,\n",
       "            \"left\": \"center\",\n",
       "            \"top\": \"top\",\n",
       "            \"orient\": \"horizontal\",\n",
       "            \"textStyle\": {\n",
       "                \"fontSize\": 12\n",
       "            }\n",
       "        }\n",
       "    ],\n",
       "    \"animation\": true,\n",
       "    \"xAxis\": [\n",
       "        {\n",
       "            \"show\": true,\n",
       "            \"nameLocation\": \"middle\",\n",
       "            \"nameGap\": 25,\n",
       "            \"nameTextStyle\": {\n",
       "                \"fontSize\": 14\n",
       "            },\n",
       "            \"axisTick\": {\n",
       "                \"alignWithLabel\": false\n",
       "            },\n",
       "            \"inverse\": false,\n",
       "            \"boundaryGap\": true,\n",
       "            \"type\": \"category\",\n",
       "            \"splitLine\": {\n",
       "                \"show\": false\n",
       "            },\n",
       "            \"axisLine\": {\n",
       "                \"lineStyle\": {\n",
       "                    \"width\": 1\n",
       "                }\n",
       "            },\n",
       "            \"axisLabel\": {\n",
       "                \"interval\": \"auto\",\n",
       "                \"rotate\": 0,\n",
       "                \"margin\": 8,\n",
       "                \"textStyle\": {\n",
       "                    \"fontSize\": 12\n",
       "                }\n",
       "            },\n",
       "            \"data\": [\n",
       "                \"\\u6d66\\u4e1c\",\n",
       "                \"\\u5b9d\\u5c71\",\n",
       "                \"\\u666e\\u9640\",\n",
       "                \"\\u677e\\u6c5f\",\n",
       "                \"\\u9759\\u5b89\",\n",
       "                \"\\u8679\\u53e3\",\n",
       "                \"\\u95f5\\u884c\",\n",
       "                \"\\u5609\\u5b9a\",\n",
       "                \"\\u9ec4\\u6d66\",\n",
       "                \"\\u6768\\u6d66\",\n",
       "                \"\\u5f90\\u6c47\",\n",
       "                \"\\u957f\\u5b81\",\n",
       "                \"\\u9752\\u6d66\",\n",
       "                \"\\u4e0a\\u6d77\\u5468\\u8fb9\",\n",
       "                \"\\u5949\\u8d24\",\n",
       "                \"\\u91d1\\u5c71\"\n",
       "            ]\n",
       "        }\n",
       "    ],\n",
       "    \"yAxis\": [\n",
       "        {\n",
       "            \"show\": true,\n",
       "            \"nameLocation\": \"middle\",\n",
       "            \"nameGap\": 25,\n",
       "            \"nameTextStyle\": {\n",
       "                \"fontSize\": 14\n",
       "            },\n",
       "            \"axisTick\": {\n",
       "                \"alignWithLabel\": false\n",
       "            },\n",
       "            \"inverse\": false,\n",
       "            \"boundaryGap\": true,\n",
       "            \"type\": \"value\",\n",
       "            \"splitLine\": {\n",
       "                \"show\": true\n",
       "            },\n",
       "            \"axisLine\": {\n",
       "                \"lineStyle\": {\n",
       "                    \"width\": 1\n",
       "                }\n",
       "            },\n",
       "            \"axisLabel\": {\n",
       "                \"interval\": \"auto\",\n",
       "                \"formatter\": \"{value} \",\n",
       "                \"rotate\": 0,\n",
       "                \"margin\": 8,\n",
       "                \"textStyle\": {\n",
       "                    \"fontSize\": 12\n",
       "                }\n",
       "            }\n",
       "        }\n",
       "    ],\n",
       "    \"color\": [\n",
       "        \"#c23531\",\n",
       "        \"#2f4554\",\n",
       "        \"#61a0a8\",\n",
       "        \"#d48265\",\n",
       "        \"#749f83\",\n",
       "        \"#ca8622\",\n",
       "        \"#bda29a\",\n",
       "        \"#6e7074\",\n",
       "        \"#546570\",\n",
       "        \"#c4ccd3\",\n",
       "        \"#f05b72\",\n",
       "        \"#ef5b9c\",\n",
       "        \"#f47920\",\n",
       "        \"#905a3d\",\n",
       "        \"#fab27b\",\n",
       "        \"#2a5caa\",\n",
       "        \"#444693\",\n",
       "        \"#726930\",\n",
       "        \"#b2d235\",\n",
       "        \"#6d8346\",\n",
       "        \"#ac6767\",\n",
       "        \"#1d953f\",\n",
       "        \"#6950a1\",\n",
       "        \"#918597\",\n",
       "        \"#f6f5ec\"\n",
       "    ]\n",
       "};\n",
       "myChart_97a33506e2f64eadbfd5c21306e831ad.setOption(option_97a33506e2f64eadbfd5c21306e831ad);\n",
       "\n",
       "    });\n",
       "</script>\n"
      ],
      "text/plain": [
       "<pyecharts.charts.bar.Bar at 0x115035518>"
      ]
     },
     "execution_count": 42,
     "metadata": {},
     "output_type": "execute_result"
    }
   ],
   "source": [
    "from pyecharts import Bar\n",
    "bar = Bar('各区房源数量柱状图图')\n",
    "bar.add('房源数量',\n",
    "        data.address.value_counts().index,\n",
    "        data.address.value_counts().values,\n",
    "        is_more_utils = True    #设置最右侧工具栏\n",
    "        )\n",
    "bar"
   ]
  },
  {
   "cell_type": "markdown",
   "metadata": {},
   "source": [
    "*** 结果分析 ***\n",
    "- 浦东新区的房源数量最多，是排名第二宝山区的两倍左右\n",
    "- 可以发现排名前四的地区都离市区较远，这些地方租房可能不利于每天的通勤"
   ]
  },
  {
   "cell_type": "markdown",
   "metadata": {},
   "source": [
    "## 3.3 房源房屋结构"
   ]
  },
  {
   "cell_type": "markdown",
   "metadata": {},
   "source": [
    "### 3.3.1 结构类型"
   ]
  },
  {
   "cell_type": "code",
   "execution_count": 43,
   "metadata": {},
   "outputs": [
    {
     "data": {
      "text/plain": [
       "<matplotlib.axes._subplots.AxesSubplot at 0x11c63eb70>"
      ]
     },
     "execution_count": 43,
     "metadata": {},
     "output_type": "execute_result"
    },
    {
     "data": {
      "image/png": "[encoded data removed]",
      "text/plain": [
       "<Figure size 432x288 with 1 Axes>"
      ]
     },
     "metadata": {
      "needs_background": "light"
     },
     "output_type": "display_data"
    }
   ],
   "source": [
    "import seaborn as sns\n",
    "s=data['apartment'].value_counts()\n",
    "sns.barplot(x=s.index, y=s.values)"
   ]
  },
  {
   "cell_type": "markdown",
   "metadata": {},
   "source": [
    "### 3.3.2 住房面积"
   ]
  },
  {
   "cell_type": "code",
   "execution_count": 44,
   "metadata": {},
   "outputs": [
    {
     "data": {
      "text/plain": [
       "<matplotlib.axes._subplots.AxesSubplot at 0x11cb3a8d0>"
      ]
     },
     "execution_count": 44,
     "metadata": {},
     "output_type": "execute_result"
    },
    {
     "data": {
      "image/png": "[encoded data removed]",
      "text/plain": [
       "<Figure size 432x288 with 1 Axes>"
      ]
     },
     "metadata": {
      "needs_background": "light"
     },
     "output_type": "display_data"
    }
   ],
   "source": [
    "s=data['area'].value_counts()[:20]\n",
    "sns.barplot(x=s.index, y=s.values)"
   ]
  },
  {
   "cell_type": "markdown",
   "metadata": {},
   "source": [
    "*** 结果分析 ***\n",
    "- 可以看出3室1厅的房型最多，是4室1厅和2室1厅的三倍左右，有超过 1000 处房源\n",
    "- 住房面积集中在 15-21 m²之间"
   ]
  },
  {
   "cell_type": "markdown",
   "metadata": {},
   "source": [
    "## 3.4 合租 or 整租"
   ]
  },
  {
   "cell_type": "code",
   "execution_count": 45,
   "metadata": {},
   "outputs": [
    {
     "data": {
      "text/html": [
       "<div>\n",
       "<style scoped>\n",
       "    .dataframe tbody tr th:only-of-type {\n",
       "        vertical-align: middle;\n",
       "    }\n",
       "\n",
       "    .dataframe tbody tr th {\n",
       "        vertical-align: top;\n",
       "    }\n",
       "\n",
       "    .dataframe thead th {\n",
       "        text-align: right;\n",
       "    }\n",
       "</style>\n",
       "<table border=\"1\" class=\"dataframe\">\n",
       "  <thead>\n",
       "    <tr style=\"text-align: right;\">\n",
       "      <th></th>\n",
       "      <th>index</th>\n",
       "      <th>rent</th>\n",
       "    </tr>\n",
       "  </thead>\n",
       "  <tbody>\n",
       "    <tr>\n",
       "      <th>0</th>\n",
       "      <td>合租</td>\n",
       "      <td>1852</td>\n",
       "    </tr>\n",
       "    <tr>\n",
       "      <th>1</th>\n",
       "      <td>整租</td>\n",
       "      <td>313</td>\n",
       "    </tr>\n",
       "  </tbody>\n",
       "</table>\n",
       "</div>"
      ],
      "text/plain": [
       "  index  rent\n",
       "0    合租  1852\n",
       "1    整租   313"
      ]
     },
     "execution_count": 45,
     "metadata": {},
     "output_type": "execute_result"
    }
   ],
   "source": [
    "data.rent.value_counts().reset_index()"
   ]
  },
  {
   "cell_type": "code",
   "execution_count": 46,
   "metadata": {},
   "outputs": [
    {
     "data": {
      "text/html": [
       "<div>\n",
       "<style scoped>\n",
       "    .dataframe tbody tr th:only-of-type {\n",
       "        vertical-align: middle;\n",
       "    }\n",
       "\n",
       "    .dataframe tbody tr th {\n",
       "        vertical-align: top;\n",
       "    }\n",
       "\n",
       "    .dataframe thead th {\n",
       "        text-align: right;\n",
       "    }\n",
       "</style>\n",
       "<table border=\"1\" class=\"dataframe\">\n",
       "  <thead>\n",
       "    <tr style=\"text-align: right;\">\n",
       "      <th></th>\n",
       "      <th>price</th>\n",
       "    </tr>\n",
       "    <tr>\n",
       "      <th>rent</th>\n",
       "      <th></th>\n",
       "    </tr>\n",
       "  </thead>\n",
       "  <tbody>\n",
       "    <tr>\n",
       "      <th>合租</th>\n",
       "      <td>1767.756479</td>\n",
       "    </tr>\n",
       "    <tr>\n",
       "      <th>整租</th>\n",
       "      <td>12209.210863</td>\n",
       "    </tr>\n",
       "  </tbody>\n",
       "</table>\n",
       "</div>"
      ],
      "text/plain": [
       "             price\n",
       "rent              \n",
       "合租     1767.756479\n",
       "整租    12209.210863"
      ]
     },
     "execution_count": 46,
     "metadata": {},
     "output_type": "execute_result"
    }
   ],
   "source": [
    "h_z=data[['rent','price']]\n",
    "h_z=h_z.groupby('rent').mean()\n",
    "h_z"
   ]
  },
  {
   "cell_type": "markdown",
   "metadata": {},
   "source": [
    "*** 结果分析 ***\n",
    "- 合租与整租房源数量有巨大差异，合租是整租房源数的 6 倍左右\n",
    "- 从价格方面看，合租比整租便宜很多，合租的平均房租为 1767.75 元/月"
   ]
  },
  {
   "cell_type": "markdown",
   "metadata": {},
   "source": [
    "## 3.5 房源与附近地铁线分析"
   ]
  },
  {
   "cell_type": "markdown",
   "metadata": {},
   "source": [
    "###  3.5.1 绘制饼图"
   ]
  },
  {
   "cell_type": "code",
   "execution_count": 47,
   "metadata": {},
   "outputs": [
    {
     "data": {
      "text/html": [
       "<script>\n",
       "    require.config({\n",
       "        paths: {\n",
       "            'echarts': '/nbextensions/echarts/echarts.min'\n",
       "        }\n",
       "    });\n",
       "</script>\n",
       "    <div id=\"b6080f169e9f4340b2192c71c51696f3\" style=\"width:800px;height:400px;\"></div>\n",
       "\n",
       "\n",
       "<script>\n",
       "    require(['echarts'], function(echarts) {\n",
       "        \n",
       "var myChart_b6080f169e9f4340b2192c71c51696f3 = echarts.init(document.getElementById('b6080f169e9f4340b2192c71c51696f3'), 'light', {renderer: 'canvas'});\n",
       "\n",
       "var option_b6080f169e9f4340b2192c71c51696f3 = {\n",
       "    \"title\": [\n",
       "        {\n",
       "            \"text\": \"\\u5404\\u5730\\u94c1\\u7ebf\\u9644\\u8fd1\\u623f\\u6e90\\u5360\\u6bd4\",\n",
       "            \"left\": \"right\",\n",
       "            \"top\": \"auto\",\n",
       "            \"textStyle\": {\n",
       "                \"fontSize\": 18\n",
       "            },\n",
       "            \"subtextStyle\": {\n",
       "                \"fontSize\": 12\n",
       "            }\n",
       "        }\n",
       "    ],\n",
       "    \"toolbox\": {\n",
       "        \"show\": true,\n",
       "        \"orient\": \"vertical\",\n",
       "        \"left\": \"95%\",\n",
       "        \"top\": \"center\",\n",
       "        \"feature\": {\n",
       "            \"saveAsImage\": {\n",
       "                \"show\": true,\n",
       "                \"title\": \"save as image\"\n",
       "            },\n",
       "            \"restore\": {\n",
       "                \"show\": true,\n",
       "                \"title\": \"restore\"\n",
       "            },\n",
       "            \"dataView\": {\n",
       "                \"show\": true,\n",
       "                \"title\": \"data view\"\n",
       "            }\n",
       "        }\n",
       "    },\n",
       "    \"series_id\": 4261020,\n",
       "    \"tooltip\": {\n",
       "        \"trigger\": \"item\",\n",
       "        \"triggerOn\": \"mousemove|click\",\n",
       "        \"axisPointer\": {\n",
       "            \"type\": \"line\"\n",
       "        },\n",
       "        \"textStyle\": {\n",
       "            \"fontSize\": 14\n",
       "        },\n",
       "        \"backgroundColor\": \"rgba(50,50,50,0.7)\",\n",
       "        \"borderColor\": \"#333\",\n",
       "        \"borderWidth\": 0\n",
       "    },\n",
       "    \"series\": [\n",
       "        {\n",
       "            \"type\": \"pie\",\n",
       "            \"data\": [\n",
       "                {\n",
       "                    \"name\": \"\\u65e0\",\n",
       "                    \"value\": 553\n",
       "                },\n",
       "                {\n",
       "                    \"name\": \"11\",\n",
       "                    \"value\": 241\n",
       "                },\n",
       "                {\n",
       "                    \"name\": \"1\",\n",
       "                    \"value\": 235\n",
       "                },\n",
       "                {\n",
       "                    \"name\": \"10\",\n",
       "                    \"value\": 227\n",
       "                },\n",
       "                {\n",
       "                    \"name\": \"9\",\n",
       "                    \"value\": 221\n",
       "                },\n",
       "                {\n",
       "                    \"name\": \"7\",\n",
       "                    \"value\": 202\n",
       "                },\n",
       "                {\n",
       "                    \"name\": \"13\",\n",
       "                    \"value\": 195\n",
       "                },\n",
       "                {\n",
       "                    \"name\": \"3\",\n",
       "                    \"value\": 179\n",
       "                },\n",
       "                {\n",
       "                    \"name\": \"8\",\n",
       "                    \"value\": 175\n",
       "                },\n",
       "                {\n",
       "                    \"name\": \"4\",\n",
       "                    \"value\": 173\n",
       "                },\n",
       "                {\n",
       "                    \"name\": \"6\",\n",
       "                    \"value\": 127\n",
       "                },\n",
       "                {\n",
       "                    \"name\": \"12\",\n",
       "                    \"value\": 120\n",
       "                },\n",
       "                {\n",
       "                    \"name\": \"2\",\n",
       "                    \"value\": 118\n",
       "                },\n",
       "                {\n",
       "                    \"name\": \"5\",\n",
       "                    \"value\": 40\n",
       "                },\n",
       "                {\n",
       "                    \"name\": \"17\",\n",
       "                    \"value\": 36\n",
       "                },\n",
       "                {\n",
       "                    \"name\": \"16\",\n",
       "                    \"value\": 28\n",
       "                },\n",
       "                {\n",
       "                    \"name\": \"\\u78c1\\u60ac\\u6d6e\",\n",
       "                    \"value\": 21\n",
       "                },\n",
       "                {\n",
       "                    \"name\": \"5\\u5357\\u5ef6\\u4f38\\u6bb5\",\n",
       "                    \"value\": 20\n",
       "                },\n",
       "                {\n",
       "                    \"name\": \"\\u6d66\\u6c5f\",\n",
       "                    \"value\": 3\n",
       "                }\n",
       "            ],\n",
       "            \"radius\": [\n",
       "                \"0%\",\n",
       "                \"75%\"\n",
       "            ],\n",
       "            \"center\": [\n",
       "                \"50%\",\n",
       "                \"50%\"\n",
       "            ],\n",
       "            \"label\": {\n",
       "                \"normal\": {\n",
       "                    \"show\": true,\n",
       "                    \"position\": \"outside\",\n",
       "                    \"textStyle\": {\n",
       "                        \"fontSize\": 12\n",
       "                    },\n",
       "                    \"formatter\": \"{b}: {d}%\"\n",
       "                },\n",
       "                \"emphasis\": {\n",
       "                    \"show\": true,\n",
       "                    \"textStyle\": {\n",
       "                        \"fontSize\": 12\n",
       "                    },\n",
       "                    \"formatter\": \"{b}: {d}%\"\n",
       "                }\n",
       "            },\n",
       "            \"seriesId\": 4261020\n",
       "        }\n",
       "    ],\n",
       "    \"legend\": [\n",
       "        {\n",
       "            \"data\": [\n",
       "                \"\\u65e0\",\n",
       "                \"11\",\n",
       "                \"1\",\n",
       "                \"10\",\n",
       "                \"9\",\n",
       "                \"7\",\n",
       "                \"13\",\n",
       "                \"3\",\n",
       "                \"8\",\n",
       "                \"4\",\n",
       "                \"6\",\n",
       "                \"12\",\n",
       "                \"2\",\n",
       "                \"5\",\n",
       "                \"17\",\n",
       "                \"16\",\n",
       "                \"\\u78c1\\u60ac\\u6d6e\",\n",
       "                \"5\\u5357\\u5ef6\\u4f38\\u6bb5\",\n",
       "                \"\\u6d66\\u6c5f\"\n",
       "            ],\n",
       "            \"selectedMode\": \"multiple\",\n",
       "            \"show\": true,\n",
       "            \"left\": \"left\",\n",
       "            \"top\": \"top\",\n",
       "            \"orient\": \"vertical\",\n",
       "            \"textStyle\": {\n",
       "                \"fontSize\": 12\n",
       "            }\n",
       "        }\n",
       "    ],\n",
       "    \"animation\": true,\n",
       "    \"color\": [\n",
       "        \"#c23531\",\n",
       "        \"#2f4554\",\n",
       "        \"#61a0a8\",\n",
       "        \"#d48265\",\n",
       "        \"#749f83\",\n",
       "        \"#ca8622\",\n",
       "        \"#bda29a\",\n",
       "        \"#6e7074\",\n",
       "        \"#546570\",\n",
       "        \"#c4ccd3\",\n",
       "        \"#f05b72\",\n",
       "        \"#ef5b9c\",\n",
       "        \"#f47920\",\n",
       "        \"#905a3d\",\n",
       "        \"#fab27b\",\n",
       "        \"#2a5caa\",\n",
       "        \"#444693\",\n",
       "        \"#726930\",\n",
       "        \"#b2d235\",\n",
       "        \"#6d8346\",\n",
       "        \"#ac6767\",\n",
       "        \"#1d953f\",\n",
       "        \"#6950a1\",\n",
       "        \"#918597\",\n",
       "        \"#f6f5ec\"\n",
       "    ]\n",
       "};\n",
       "myChart_b6080f169e9f4340b2192c71c51696f3.setOption(option_b6080f169e9f4340b2192c71c51696f3);\n",
       "\n",
       "    });\n",
       "</script>\n"
      ],
      "text/plain": [
       "<pyecharts.charts.pie.Pie at 0x114e1a470>"
      ]
     },
     "execution_count": 47,
     "metadata": {},
     "output_type": "execute_result"
    }
   ],
   "source": [
    "from pyecharts import Pie\n",
    "attr=sub_counts.sub_line.tolist()\n",
    "v1=sub_counts.counts.tolist()\n",
    "pie=Pie('各地铁线附近房源占比',title_pos='right')\n",
    "pie.add('',attr,v1,is_label_show=True,legend_orient='vertical',legend_pos='left')\n",
    "pie"
   ]
  },
  {
   "cell_type": "markdown",
   "metadata": {},
   "source": [
    "###  3.5.2 绘制条形图"
   ]
  },
  {
   "cell_type": "code",
   "execution_count": 48,
   "metadata": {},
   "outputs": [
    {
     "data": {
      "image/png": "[encoded data removed]",
      "text/plain": [
       "<Figure size 1152x504 with 1 Axes>"
      ]
     },
     "metadata": {
      "needs_background": "light"
     },
     "output_type": "display_data"
    }
   ],
   "source": [
    "plt.rcParams['figure.figsize'] = (16.0, 7.0)\n",
    "plt.barh(sub_counts.sub_line[0],sub_counts.counts[0],label='附近无地铁',color='#808080')\n",
    "plt.barh(sub_counts.sub_line[1],sub_counts.counts[1],label='11号线',color='#A52A2A')\n",
    "plt.barh(sub_counts.sub_line[2],sub_counts.counts[2],label='1号线',color='#DC143C')\n",
    "plt.barh(sub_counts.sub_line[3],sub_counts.counts[3],label='10号线',color='#C9B2D7')\n",
    "plt.barh(sub_counts.sub_line[4],sub_counts.counts[4],label='9号线',color='#AFEEEE')\n",
    "plt.barh(sub_counts.sub_line[5],sub_counts.counts[5],label='7号线',color='#FF7F50')\n",
    "plt.barh(sub_counts.sub_line[6],sub_counts.counts[6],label='13号线',color='#FF69B4')\n",
    "plt.barh(sub_counts.sub_line[7],sub_counts.counts[7],label='3号线',color='#FFFF00')\n",
    "plt.barh(sub_counts.sub_line[8],sub_counts.counts[8],label='8号线',color='#4169E1')\n",
    "plt.barh(sub_counts.sub_line[9],sub_counts.counts[9],label='4号线',color='#9932CC')\n",
    "plt.barh(sub_counts.sub_line[10],sub_counts.counts[10],label='6号线',color='#FF1493')\n",
    "plt.barh(sub_counts.sub_line[11],sub_counts.counts[11],label='12号线',color='#4A8470')\n",
    "plt.barh(sub_counts.sub_line[12],sub_counts.counts[12],label='2号线',color='#56A140')\n",
    "plt.barh(sub_counts.sub_line[13],sub_counts.counts[13],label='5号线',color='#C245CB')\n",
    "plt.barh(sub_counts.sub_line[14],sub_counts.counts[14],label='17号线',color='#BD8884')\n",
    "plt.barh(sub_counts.sub_line[15],sub_counts.counts[15],label='16号线',color='#95CCCC')\n",
    "plt.barh(sub_counts.sub_line[16],sub_counts.counts[16],label='磁悬浮',color='#BBBBBB')\n",
    "plt.barh(sub_counts.sub_line[17],sub_counts.counts[17],label='5号线南延伸段',color='#C144CA')\n",
    "plt.barh(sub_counts.sub_line[18],sub_counts.counts[18],label='浦江线',color='#A6AAB4')\n",
    "plt.legend()\n",
    "plt.title('地铁线附近房源数量')\n",
    "plt.show()"
   ]
  },
  {
   "cell_type": "markdown",
   "metadata": {},
   "source": [
    "*** 结果分析 ***\n",
    "- 从占比情况来看，房源位于非地铁线附近占比最多为 18.98% ，且超过 500 个房源，而位于地铁线附近房源占比分布较为均匀\n",
    "- 11号线、1号线、10号线和9号线房源数量排名靠前，都超过 200 个房源"
   ]
  },
  {
   "cell_type": "markdown",
   "metadata": {},
   "source": [
    "## 3.6 房源楼层分析"
   ]
  },
  {
   "cell_type": "markdown",
   "metadata": {},
   "source": [
    "### 3.6.1 所在楼层分析"
   ]
  },
  {
   "cell_type": "code",
   "execution_count": 49,
   "metadata": {},
   "outputs": [],
   "source": [
    "high_low_counts=data.high_or_low.value_counts().reset_index()\n",
    "high_low_counts.columns=['high_or_low','counts']"
   ]
  },
  {
   "cell_type": "code",
   "execution_count": 50,
   "metadata": {},
   "outputs": [
    {
     "data": {
      "text/html": [
       "<script>\n",
       "    require.config({\n",
       "        paths: {\n",
       "            'echarts': '/nbextensions/echarts/echarts.min'\n",
       "        }\n",
       "    });\n",
       "</script>\n",
       "    <div id=\"7595b9a4a51243b3b73b96137e7ab8e2\" style=\"width:900px;height:400px;\"></div>\n",
       "\n",
       "\n",
       "<script>\n",
       "    require(['echarts'], function(echarts) {\n",
       "        \n",
       "var myChart_7595b9a4a51243b3b73b96137e7ab8e2 = echarts.init(document.getElementById('7595b9a4a51243b3b73b96137e7ab8e2'), 'light', {renderer: 'canvas'});\n",
       "\n",
       "var option_7595b9a4a51243b3b73b96137e7ab8e2 = {\n",
       "    \"title\": [\n",
       "        {\n",
       "            \"text\": \"\\u623f\\u6e90\\u6240\\u5728\\u697c\\u5c42\\u5206\\u5e03\\u5360\\u6bd4\",\n",
       "            \"left\": \"center\",\n",
       "            \"top\": \"auto\",\n",
       "            \"textStyle\": {\n",
       "                \"fontSize\": 18\n",
       "            },\n",
       "            \"subtextStyle\": {\n",
       "                \"fontSize\": 12\n",
       "            }\n",
       "        }\n",
       "    ],\n",
       "    \"toolbox\": {\n",
       "        \"show\": true,\n",
       "        \"orient\": \"vertical\",\n",
       "        \"left\": \"95%\",\n",
       "        \"top\": \"center\",\n",
       "        \"feature\": {\n",
       "            \"saveAsImage\": {\n",
       "                \"show\": true,\n",
       "                \"title\": \"save as image\"\n",
       "            },\n",
       "            \"restore\": {\n",
       "                \"show\": true,\n",
       "                \"title\": \"restore\"\n",
       "            },\n",
       "            \"dataView\": {\n",
       "                \"show\": true,\n",
       "                \"title\": \"data view\"\n",
       "            }\n",
       "        }\n",
       "    },\n",
       "    \"series_id\": 246592,\n",
       "    \"tooltip\": {\n",
       "        \"trigger\": \"item\",\n",
       "        \"triggerOn\": \"mousemove|click\",\n",
       "        \"axisPointer\": {\n",
       "            \"type\": \"line\"\n",
       "        },\n",
       "        \"textStyle\": {\n",
       "            \"fontSize\": 14\n",
       "        },\n",
       "        \"backgroundColor\": \"rgba(50,50,50,0.7)\",\n",
       "        \"borderColor\": \"#333\",\n",
       "        \"borderWidth\": 0\n",
       "    },\n",
       "    \"series\": [\n",
       "        {\n",
       "            \"type\": \"pie\",\n",
       "            \"data\": [\n",
       "                {\n",
       "                    \"name\": \"\\u4e2d\\u5c42\",\n",
       "                    \"value\": 1036\n",
       "                },\n",
       "                {\n",
       "                    \"name\": \"\\u4f4e\\u5c42\",\n",
       "                    \"value\": 887\n",
       "                },\n",
       "                {\n",
       "                    \"name\": \"\\u9ad8\\u5c42\",\n",
       "                    \"value\": 242\n",
       "                }\n",
       "            ],\n",
       "            \"radius\": [\n",
       "                \"40%\",\n",
       "                \"75%\"\n",
       "            ],\n",
       "            \"center\": [\n",
       "                \"50%\",\n",
       "                \"50%\"\n",
       "            ],\n",
       "            \"roseType\": \"area\",\n",
       "            \"label\": {\n",
       "                \"normal\": {\n",
       "                    \"show\": true,\n",
       "                    \"position\": \"outside\",\n",
       "                    \"textStyle\": {\n",
       "                        \"fontSize\": 12\n",
       "                    },\n",
       "                    \"formatter\": \"{b}: {d}%\"\n",
       "                },\n",
       "                \"emphasis\": {\n",
       "                    \"show\": true,\n",
       "                    \"textStyle\": {\n",
       "                        \"fontSize\": 12\n",
       "                    },\n",
       "                    \"formatter\": \"{b}: {d}%\"\n",
       "                }\n",
       "            },\n",
       "            \"seriesId\": 246592\n",
       "        }\n",
       "    ],\n",
       "    \"legend\": [\n",
       "        {\n",
       "            \"data\": [\n",
       "                \"\\u4e2d\\u5c42\",\n",
       "                \"\\u4f4e\\u5c42\",\n",
       "                \"\\u9ad8\\u5c42\"\n",
       "            ],\n",
       "            \"selectedMode\": \"multiple\",\n",
       "            \"show\": false,\n",
       "            \"left\": \"center\",\n",
       "            \"top\": \"top\",\n",
       "            \"orient\": \"horizontal\",\n",
       "            \"textStyle\": {\n",
       "                \"fontSize\": 12\n",
       "            }\n",
       "        }\n",
       "    ],\n",
       "    \"animation\": true,\n",
       "    \"color\": [\n",
       "        \"#2f4554\",\n",
       "        \"#6d8346\",\n",
       "        \"#749f83\",\n",
       "        \"#1d953f\",\n",
       "        \"#444693\",\n",
       "        \"#fab27b\",\n",
       "        \"#6950a1\",\n",
       "        \"#905a3d\",\n",
       "        \"#61a0a8\",\n",
       "        \"#ef5b9c\",\n",
       "        \"#f6f5ec\",\n",
       "        \"#2a5caa\",\n",
       "        \"#918597\",\n",
       "        \"#b2d235\",\n",
       "        \"#bda29a\",\n",
       "        \"#ac6767\",\n",
       "        \"#c23531\",\n",
       "        \"#726930\",\n",
       "        \"#f47920\",\n",
       "        \"#f05b72\",\n",
       "        \"#546570\",\n",
       "        \"#6e7074\",\n",
       "        \"#ca8622\",\n",
       "        \"#d48265\",\n",
       "        \"#c4ccd3\"\n",
       "    ]\n",
       "};\n",
       "myChart_7595b9a4a51243b3b73b96137e7ab8e2.setOption(option_7595b9a4a51243b3b73b96137e7ab8e2);\n",
       "\n",
       "    });\n",
       "</script>\n"
      ],
      "text/plain": [
       "<pyecharts.charts.pie.Pie at 0x114dcd550>"
      ]
     },
     "execution_count": 50,
     "metadata": {},
     "output_type": "execute_result"
    }
   ],
   "source": [
    "from pyecharts import Pie\n",
    "\n",
    "attr = high_low_counts.high_or_low.tolist()\n",
    "v1 = high_low_counts.counts.tolist()\n",
    "pie = Pie(\"房源所在楼层分布占比\", title_pos='center', width=900)\n",
    "pie.add(\"\", attr, v1, center=[50, 50], is_random=True, radius=[40, 75], rosetype='area',\n",
    "        is_legend_show=False, is_label_show=True)\n",
    " \n",
    "pie"
   ]
  },
  {
   "cell_type": "markdown",
   "metadata": {},
   "source": [
    "### 3.6.2 房源楼层高度分析"
   ]
  },
  {
   "cell_type": "code",
   "execution_count": 51,
   "metadata": {},
   "outputs": [
    {
     "data": {
      "image/png": "[encoded data removed]",
      "text/plain": [
       "<Figure size 1152x504 with 1 Axes>"
      ]
     },
     "metadata": {
      "needs_background": "light"
     },
     "output_type": "display_data"
    }
   ],
   "source": [
    "import seaborn as sns\n",
    "fig=plt.figure(1)\n",
    "sns.distplot(data.building_height, color=\"g\")\n",
    "plt.show()"
   ]
  },
  {
   "cell_type": "markdown",
   "metadata": {},
   "source": [
    "*** 结果分析 ***\n",
    "- 中层和低层数量最多，且均超过总房源数的 40% \n",
    "- 房源楼层高度方面，17-20 层最多，也有少量 90 层高左右的房源"
   ]
  },
  {
   "cell_type": "markdown",
   "metadata": {},
   "source": [
    "## 3.7 房租价格分析"
   ]
  },
  {
   "cell_type": "markdown",
   "metadata": {},
   "source": [
    "### 3.7.1 按区域位置分析"
   ]
  },
  {
   "cell_type": "code",
   "execution_count": 123,
   "metadata": {},
   "outputs": [],
   "source": [
    "a_p=data[['address','price']]\n",
    "a_p=a_p.groupby('address').mean().sort_values(by='price')\n",
    "address_price=a_p['price'].map(lambda x:'%.2f'%x).apply(pd.to_numeric).reset_index()"
   ]
  },
  {
   "cell_type": "code",
   "execution_count": 125,
   "metadata": {},
   "outputs": [
    {
     "data": {
      "image/png": "[encoded data removed]",
      "text/plain": [
       "<Figure size 3000x1400 with 1 Axes>"
      ]
     },
     "metadata": {},
     "output_type": "display_data"
    }
   ],
   "source": [
    "import matplotlib.pyplot as plt\n",
    "import matplotlib\n",
    "plt.rcParams['figure.figsize'] = (15.0, 7.0)\n",
    "matplotlib.rcParams['font.family'] = 'SimHei' #配置中文字体\n",
    "matplotlib.rcParams['font.size'] = 12   # 更改默认字体大小\n",
    "fig=plt.figure(1)\n",
    "ax=plt.subplot(111)\n",
    "width=0.7\n",
    "datas=address_price.price\n",
    "x_bar=address_price.address\n",
    "rect=ax.bar(x_bar,height=datas,width=width,color='lightblue')\n",
    "for rec in rect:\n",
    "    x=rec.get_x()\n",
    "    y=rec.get_height()\n",
    "    ax.text(x,y+0.5,str(y))\n",
    "    \n",
    "plt.rcParams['savefig.dpi'] = 200 #图片像素\n",
    "plt.rcParams['figure.dpi'] = 200 #分辨率\n",
    "plt.grid(True)\n",
    "plt.show()"
   ]
  },
  {
   "cell_type": "markdown",
   "metadata": {},
   "source": [
    "*** 结果分析 ***\n",
    "- 上海周边为苏州、杭州一带，租房平均价为 2877.2 元/月\n",
    "- 较便宜的地区均价在 1200-1800 元/月，但这些地方离市中心较远\n",
    "- 作为上海的中心区域，黄浦区的租房价接近 8000 元/月"
   ]
  },
  {
   "cell_type": "markdown",
   "metadata": {},
   "source": [
    "### 3.7.2 按房屋面积分析"
   ]
  },
  {
   "cell_type": "code",
   "execution_count": 65,
   "metadata": {},
   "outputs": [
    {
     "data": {
      "text/html": [
       "<div>\n",
       "<style scoped>\n",
       "    .dataframe tbody tr th:only-of-type {\n",
       "        vertical-align: middle;\n",
       "    }\n",
       "\n",
       "    .dataframe tbody tr th {\n",
       "        vertical-align: top;\n",
       "    }\n",
       "\n",
       "    .dataframe thead th {\n",
       "        text-align: right;\n",
       "    }\n",
       "</style>\n",
       "<table border=\"1\" class=\"dataframe\">\n",
       "  <thead>\n",
       "    <tr style=\"text-align: right;\">\n",
       "      <th></th>\n",
       "      <th>area</th>\n",
       "      <th>price</th>\n",
       "    </tr>\n",
       "  </thead>\n",
       "  <tbody>\n",
       "    <tr>\n",
       "      <th>0</th>\n",
       "      <td>21</td>\n",
       "      <td>2430</td>\n",
       "    </tr>\n",
       "    <tr>\n",
       "      <th>1</th>\n",
       "      <td>26</td>\n",
       "      <td>2060</td>\n",
       "    </tr>\n",
       "    <tr>\n",
       "      <th>2</th>\n",
       "      <td>120</td>\n",
       "      <td>10000</td>\n",
       "    </tr>\n",
       "    <tr>\n",
       "      <th>3</th>\n",
       "      <td>680</td>\n",
       "      <td>65000</td>\n",
       "    </tr>\n",
       "    <tr>\n",
       "      <th>4</th>\n",
       "      <td>65</td>\n",
       "      <td>5000</td>\n",
       "    </tr>\n",
       "  </tbody>\n",
       "</table>\n",
       "</div>"
      ],
      "text/plain": [
       "   area  price\n",
       "0    21   2430\n",
       "1    26   2060\n",
       "2   120  10000\n",
       "3   680  65000\n",
       "4    65   5000"
      ]
     },
     "execution_count": 65,
     "metadata": {},
     "output_type": "execute_result"
    }
   ],
   "source": [
    "a_p=data[['area','price']]\n",
    "a_p.head()"
   ]
  },
  {
   "cell_type": "code",
   "execution_count": 66,
   "metadata": {},
   "outputs": [
    {
     "data": {
      "text/plain": [
       "<matplotlib.axes._subplots.AxesSubplot at 0x11d43beb8>"
      ]
     },
     "execution_count": 66,
     "metadata": {},
     "output_type": "execute_result"
    },
    {
     "data": {
      "image/png": "[encoded data removed]",
      "text/plain": [
       "<Figure size 2400x1200 with 1 Axes>"
      ]
     },
     "metadata": {},
     "output_type": "display_data"
    }
   ],
   "source": [
    "sns.set_style('whitegrid')\n",
    "plt.figure(figsize=(12,6))\n",
    "sns.regplot(x='area', y='price', data=a_p)"
   ]
  },
  {
   "cell_type": "markdown",
   "metadata": {},
   "source": [
    "* 皮尔逊相关性"
   ]
  },
  {
   "cell_type": "code",
   "execution_count": 64,
   "metadata": {},
   "outputs": [
    {
     "data": {
      "text/plain": [
       "0.8460687456278573"
      ]
     },
     "execution_count": 64,
     "metadata": {},
     "output_type": "execute_result"
    }
   ],
   "source": [
    "data['area'].corr(data['price'])"
   ]
  },
  {
   "cell_type": "markdown",
   "metadata": {},
   "source": [
    "*** 结果分析 ***\n",
    "- 利用皮尔逊相关系数可看出，住房面积和租金是强相关性\n",
    "- 可以看出大部分房源在 180 m²以内，而随着房屋面积增加，房租也随之增加\n",
    "- 在 200~300 m²之间，可以看出租金高达 1.5~2 万左右"
   ]
  },
  {
   "cell_type": "markdown",
   "metadata": {},
   "source": [
    "### 3.7.3 按房屋朝向分析"
   ]
  },
  {
   "cell_type": "code",
   "execution_count": 60,
   "metadata": {},
   "outputs": [],
   "source": [
    "orientation_price=data.groupby('orientation')['price'].mean().map(lambda x:'%.2f'%x).apply(pd.to_numeric)\n",
    "orientation_prices=orientation_price.reset_index().sort_values('orientation')"
   ]
  },
  {
   "cell_type": "code",
   "execution_count": 83,
   "metadata": {},
   "outputs": [
    {
     "data": {
      "text/html": [
       "<div>\n",
       "<style scoped>\n",
       "    .dataframe tbody tr th:only-of-type {\n",
       "        vertical-align: middle;\n",
       "    }\n",
       "\n",
       "    .dataframe tbody tr th {\n",
       "        vertical-align: top;\n",
       "    }\n",
       "\n",
       "    .dataframe thead th {\n",
       "        text-align: right;\n",
       "    }\n",
       "</style>\n",
       "<table border=\"1\" class=\"dataframe\">\n",
       "  <thead>\n",
       "    <tr style=\"text-align: right;\">\n",
       "      <th></th>\n",
       "      <th>orientation</th>\n",
       "      <th>price</th>\n",
       "    </tr>\n",
       "  </thead>\n",
       "  <tbody>\n",
       "    <tr>\n",
       "      <th>0</th>\n",
       "      <td>东北</td>\n",
       "      <td>4500.00</td>\n",
       "    </tr>\n",
       "    <tr>\n",
       "      <th>1</th>\n",
       "      <td>东南</td>\n",
       "      <td>1684.15</td>\n",
       "    </tr>\n",
       "    <tr>\n",
       "      <th>2</th>\n",
       "      <td>南北</td>\n",
       "      <td>10939.19</td>\n",
       "    </tr>\n",
       "    <tr>\n",
       "      <th>3</th>\n",
       "      <td>朝东</td>\n",
       "      <td>2054.29</td>\n",
       "    </tr>\n",
       "    <tr>\n",
       "      <th>4</th>\n",
       "      <td>朝南</td>\n",
       "      <td>3773.30</td>\n",
       "    </tr>\n",
       "    <tr>\n",
       "      <th>5</th>\n",
       "      <td>朝西</td>\n",
       "      <td>1950.72</td>\n",
       "    </tr>\n",
       "    <tr>\n",
       "      <th>6</th>\n",
       "      <td>西北</td>\n",
       "      <td>2800.00</td>\n",
       "    </tr>\n",
       "    <tr>\n",
       "      <th>7</th>\n",
       "      <td>西南</td>\n",
       "      <td>1859.51</td>\n",
       "    </tr>\n",
       "  </tbody>\n",
       "</table>\n",
       "</div>"
      ],
      "text/plain": [
       "  orientation     price\n",
       "0          东北   4500.00\n",
       "1          东南   1684.15\n",
       "2          南北  10939.19\n",
       "3          朝东   2054.29\n",
       "4          朝南   3773.30\n",
       "5          朝西   1950.72\n",
       "6          西北   2800.00\n",
       "7          西南   1859.51"
      ]
     },
     "execution_count": 83,
     "metadata": {},
     "output_type": "execute_result"
    }
   ],
   "source": [
    "orientation_prices"
   ]
  },
  {
   "cell_type": "code",
   "execution_count": 62,
   "metadata": {},
   "outputs": [],
   "source": [
    "orientation_count=data.orientation.value_counts()\n",
    "orientation_counts=orientation_count.reset_index().sort_values('index')"
   ]
  },
  {
   "cell_type": "code",
   "execution_count": 63,
   "metadata": {},
   "outputs": [
    {
     "data": {
      "text/html": [
       "<script>\n",
       "    require.config({\n",
       "        paths: {\n",
       "            'echarts': '/nbextensions/echarts/echarts.min'\n",
       "        }\n",
       "    });\n",
       "</script>\n",
       "    <div id=\"e9293632e1d2457fb869ea741941b773\" style=\"width:800px;height:400px;\"></div>\n",
       "\n",
       "\n",
       "<script>\n",
       "    require(['echarts'], function(echarts) {\n",
       "        \n",
       "var myChart_e9293632e1d2457fb869ea741941b773 = echarts.init(document.getElementById('e9293632e1d2457fb869ea741941b773'), 'light', {renderer: 'canvas'});\n",
       "\n",
       "var option_e9293632e1d2457fb869ea741941b773 = {\n",
       "    \"title\": [\n",
       "        {\n",
       "            \"text\": \"\\u623f\\u5c4b\\u671d\\u5411\\u4e0e\\u623f\\u5c4b\\u6570\\u91cf\\u3001\\u623f\\u79df\\u7684\\u5173\\u7cfb\",\n",
       "            \"left\": \"auto\",\n",
       "            \"top\": \"auto\",\n",
       "            \"textStyle\": {\n",
       "                \"fontSize\": 18\n",
       "            },\n",
       "            \"subtextStyle\": {\n",
       "                \"fontSize\": 12\n",
       "            }\n",
       "        }\n",
       "    ],\n",
       "    \"toolbox\": {\n",
       "        \"show\": true,\n",
       "        \"orient\": \"vertical\",\n",
       "        \"left\": \"95%\",\n",
       "        \"top\": \"center\",\n",
       "        \"feature\": {\n",
       "            \"saveAsImage\": {\n",
       "                \"show\": true,\n",
       "                \"title\": \"save as image\"\n",
       "            },\n",
       "            \"restore\": {\n",
       "                \"show\": true,\n",
       "                \"title\": \"restore\"\n",
       "            },\n",
       "            \"dataView\": {\n",
       "                \"show\": true,\n",
       "                \"title\": \"data view\"\n",
       "            }\n",
       "        }\n",
       "    },\n",
       "    \"series_id\": 5621493,\n",
       "    \"tooltip\": {\n",
       "        \"trigger\": \"item\",\n",
       "        \"triggerOn\": \"mousemove|click\",\n",
       "        \"axisPointer\": {\n",
       "            \"type\": \"line\"\n",
       "        },\n",
       "        \"textStyle\": {\n",
       "            \"fontSize\": 14\n",
       "        },\n",
       "        \"backgroundColor\": \"rgba(50,50,50,0.7)\",\n",
       "        \"borderColor\": \"#333\",\n",
       "        \"borderWidth\": 0\n",
       "    },\n",
       "    \"series\": [\n",
       "        {\n",
       "            \"type\": \"bar\",\n",
       "            \"name\": \"bar\",\n",
       "            \"data\": [\n",
       "                4500.0,\n",
       "                1684.15,\n",
       "                10939.19,\n",
       "                2054.29,\n",
       "                3773.3,\n",
       "                1950.72,\n",
       "                2800.0,\n",
       "                1859.51\n",
       "            ],\n",
       "            \"barCategoryGap\": \"20%\",\n",
       "            \"label\": {\n",
       "                \"normal\": {\n",
       "                    \"show\": false,\n",
       "                    \"position\": \"top\",\n",
       "                    \"textStyle\": {\n",
       "                        \"fontSize\": 12\n",
       "                    }\n",
       "                },\n",
       "                \"emphasis\": {\n",
       "                    \"show\": true,\n",
       "                    \"textStyle\": {\n",
       "                        \"fontSize\": 12\n",
       "                    }\n",
       "                }\n",
       "            },\n",
       "            \"markPoint\": {\n",
       "                \"data\": [\n",
       "                    {\n",
       "                        \"type\": \"max\",\n",
       "                        \"name\": \"Maximum\",\n",
       "                        \"symbol\": \"pin\",\n",
       "                        \"symbolSize\": 50,\n",
       "                        \"label\": {\n",
       "                            \"normal\": {\n",
       "                                \"textStyle\": {\n",
       "                                    \"color\": \"#fff\"\n",
       "                                }\n",
       "                            }\n",
       "                        }\n",
       "                    }\n",
       "                ]\n",
       "            },\n",
       "            \"markLine\": {\n",
       "                \"data\": [\n",
       "                    {\n",
       "                        \"type\": \"average\",\n",
       "                        \"name\": \"mean-Value\"\n",
       "                    }\n",
       "                ],\n",
       "                \"symbolSize\": 10\n",
       "            },\n",
       "            \"seriesId\": 5621493\n",
       "        },\n",
       "        {\n",
       "            \"type\": \"line\",\n",
       "            \"name\": \"line\",\n",
       "            \"symbol\": \"emptyCircle\",\n",
       "            \"symbolSize\": 4,\n",
       "            \"smooth\": false,\n",
       "            \"step\": false,\n",
       "            \"showSymbol\": true,\n",
       "            \"data\": [\n",
       "                [\n",
       "                    \"\\u4e1c\\u5317\",\n",
       "                    4\n",
       "                ],\n",
       "                [\n",
       "                    \"\\u4e1c\\u5357\",\n",
       "                    617\n",
       "                ],\n",
       "                [\n",
       "                    \"\\u5357\\u5317\",\n",
       "                    189\n",
       "                ],\n",
       "                [\n",
       "                    \"\\u671d\\u4e1c\",\n",
       "                    168\n",
       "                ],\n",
       "                [\n",
       "                    \"\\u671d\\u5357\",\n",
       "                    725\n",
       "                ],\n",
       "                [\n",
       "                    \"\\u671d\\u897f\",\n",
       "                    318\n",
       "                ],\n",
       "                [\n",
       "                    \"\\u897f\\u5317\",\n",
       "                    2\n",
       "                ],\n",
       "                [\n",
       "                    \"\\u897f\\u5357\",\n",
       "                    142\n",
       "                ]\n",
       "            ],\n",
       "            \"label\": {\n",
       "                \"normal\": {\n",
       "                    \"show\": false,\n",
       "                    \"position\": \"top\",\n",
       "                    \"textStyle\": {\n",
       "                        \"fontSize\": 12\n",
       "                    }\n",
       "                },\n",
       "                \"emphasis\": {\n",
       "                    \"show\": true,\n",
       "                    \"textStyle\": {\n",
       "                        \"fontSize\": 12\n",
       "                    }\n",
       "                }\n",
       "            },\n",
       "            \"lineStyle\": {\n",
       "                \"normal\": {\n",
       "                    \"width\": 1,\n",
       "                    \"opacity\": 1,\n",
       "                    \"curveness\": 0,\n",
       "                    \"type\": \"solid\"\n",
       "                }\n",
       "            },\n",
       "            \"areaStyle\": {\n",
       "                \"opacity\": 0\n",
       "            },\n",
       "            \"markPoint\": {\n",
       "                \"data\": [\n",
       "                    {\n",
       "                        \"type\": \"max\",\n",
       "                        \"name\": \"Maximum\",\n",
       "                        \"symbol\": \"pin\",\n",
       "                        \"symbolSize\": 50,\n",
       "                        \"label\": {\n",
       "                            \"normal\": {\n",
       "                                \"textStyle\": {\n",
       "                                    \"color\": \"#fff\"\n",
       "                                }\n",
       "                            }\n",
       "                        }\n",
       "                    },\n",
       "                    {\n",
       "                        \"type\": \"min\",\n",
       "                        \"name\": \"Minimum\",\n",
       "                        \"symbol\": \"pin\",\n",
       "                        \"symbolSize\": 50,\n",
       "                        \"label\": {\n",
       "                            \"normal\": {\n",
       "                                \"textStyle\": {\n",
       "                                    \"color\": \"#fff\"\n",
       "                                }\n",
       "                            }\n",
       "                        }\n",
       "                    }\n",
       "                ]\n",
       "            },\n",
       "            \"markLine\": {\n",
       "                \"data\": []\n",
       "            },\n",
       "            \"seriesId\": 5621493,\n",
       "            \"xAxisIndex\": 0,\n",
       "            \"yAxisIndex\": 0\n",
       "        }\n",
       "    ],\n",
       "    \"legend\": [\n",
       "        {\n",
       "            \"data\": [\n",
       "                \"bar\",\n",
       "                \"line\"\n",
       "            ],\n",
       "            \"selectedMode\": \"multiple\",\n",
       "            \"show\": true,\n",
       "            \"left\": \"center\",\n",
       "            \"top\": \"top\",\n",
       "            \"orient\": \"horizontal\",\n",
       "            \"textStyle\": {\n",
       "                \"fontSize\": 12\n",
       "            }\n",
       "        }\n",
       "    ],\n",
       "    \"animation\": true,\n",
       "    \"xAxis\": [\n",
       "        {\n",
       "            \"show\": true,\n",
       "            \"nameLocation\": \"middle\",\n",
       "            \"nameGap\": 25,\n",
       "            \"nameTextStyle\": {\n",
       "                \"fontSize\": 14\n",
       "            },\n",
       "            \"axisTick\": {\n",
       "                \"alignWithLabel\": false\n",
       "            },\n",
       "            \"inverse\": false,\n",
       "            \"boundaryGap\": true,\n",
       "            \"type\": \"category\",\n",
       "            \"splitLine\": {\n",
       "                \"show\": false\n",
       "            },\n",
       "            \"axisLine\": {\n",
       "                \"lineStyle\": {\n",
       "                    \"width\": 1\n",
       "                }\n",
       "            },\n",
       "            \"axisLabel\": {\n",
       "                \"interval\": \"auto\",\n",
       "                \"rotate\": 0,\n",
       "                \"margin\": 8,\n",
       "                \"textStyle\": {\n",
       "                    \"fontSize\": 12\n",
       "                }\n",
       "            },\n",
       "            \"data\": [\n",
       "                \"\\u4e1c\\u5317\",\n",
       "                \"\\u4e1c\\u5357\",\n",
       "                \"\\u5357\\u5317\",\n",
       "                \"\\u671d\\u4e1c\",\n",
       "                \"\\u671d\\u5357\",\n",
       "                \"\\u671d\\u897f\",\n",
       "                \"\\u897f\\u5317\",\n",
       "                \"\\u897f\\u5357\"\n",
       "            ]\n",
       "        }\n",
       "    ],\n",
       "    \"yAxis\": [\n",
       "        {\n",
       "            \"show\": true,\n",
       "            \"nameLocation\": \"middle\",\n",
       "            \"nameGap\": 25,\n",
       "            \"nameTextStyle\": {\n",
       "                \"fontSize\": 14\n",
       "            },\n",
       "            \"axisTick\": {\n",
       "                \"alignWithLabel\": false\n",
       "            },\n",
       "            \"inverse\": false,\n",
       "            \"boundaryGap\": true,\n",
       "            \"type\": \"value\",\n",
       "            \"splitLine\": {\n",
       "                \"show\": true\n",
       "            },\n",
       "            \"axisLine\": {\n",
       "                \"lineStyle\": {\n",
       "                    \"width\": 1\n",
       "                }\n",
       "            },\n",
       "            \"axisLabel\": {\n",
       "                \"interval\": \"auto\",\n",
       "                \"formatter\": \"{value} \",\n",
       "                \"rotate\": 0,\n",
       "                \"margin\": 8,\n",
       "                \"textStyle\": {\n",
       "                    \"fontSize\": 12\n",
       "                }\n",
       "            }\n",
       "        }\n",
       "    ],\n",
       "    \"color\": [\n",
       "        \"#c23531\",\n",
       "        \"#2f4554\",\n",
       "        \"#61a0a8\",\n",
       "        \"#d48265\",\n",
       "        \"#749f83\",\n",
       "        \"#ca8622\",\n",
       "        \"#bda29a\",\n",
       "        \"#6e7074\",\n",
       "        \"#546570\",\n",
       "        \"#c4ccd3\",\n",
       "        \"#f05b72\",\n",
       "        \"#ef5b9c\",\n",
       "        \"#f47920\",\n",
       "        \"#905a3d\",\n",
       "        \"#fab27b\",\n",
       "        \"#2a5caa\",\n",
       "        \"#444693\",\n",
       "        \"#726930\",\n",
       "        \"#b2d235\",\n",
       "        \"#6d8346\",\n",
       "        \"#ac6767\",\n",
       "        \"#1d953f\",\n",
       "        \"#6950a1\",\n",
       "        \"#918597\",\n",
       "        \"#f6f5ec\"\n",
       "    ]\n",
       "};\n",
       "myChart_e9293632e1d2457fb869ea741941b773.setOption(option_e9293632e1d2457fb869ea741941b773);\n",
       "\n",
       "    });\n",
       "</script>\n"
      ],
      "text/plain": [
       "<pyecharts.custom.overlap.Overlap at 0x11d67bfd0>"
      ]
     },
     "execution_count": 63,
     "metadata": {},
     "output_type": "execute_result"
    }
   ],
   "source": [
    "from pyecharts import Bar,Line,Overlap\n",
    "attr=orientation_prices['orientation']\n",
    "v1=orientation_prices['price']\n",
    "v2=orientation_counts['orientation']\n",
    "bar=Bar('房屋朝向与房屋数量、房租的关系')\n",
    "bar.add('bar',attr,v1,mark_point=['max'],mark_line=['average'])\n",
    "line=Line()\n",
    "line.add('line',attr,v2,mark_point=['max','min'])\n",
    "overlap=Overlap()\n",
    "overlap.add(bar)\n",
    "overlap.add(line)\n",
    "overlap"
   ]
  },
  {
   "cell_type": "markdown",
   "metadata": {},
   "source": [
    "*** 结果分析 ***\n",
    "- 南北朝向的房屋是最贵的，平均房租为 10939.19 元/月\n",
    "- 以朝南的房屋最多，为 725 个房源，最少的是西北朝向的房屋，只有 2 个房源\n",
    "- 按房屋朝向分类，上海房租平均价为 3695.14 元/月"
   ]
  },
  {
   "cell_type": "markdown",
   "metadata": {},
   "source": [
    "# 四、房源标题词云图"
   ]
  },
  {
   "cell_type": "code",
   "execution_count": 85,
   "metadata": {},
   "outputs": [],
   "source": [
    "key_words=pd.read_csv('key_words.csv')\n",
    "tup={}\n",
    "aim_line=data.title\n",
    "for i in key_words:\n",
    "    a=0\n",
    "    for j in aim_line:\n",
    "        if i in j:\n",
    "            tup[i]=a\n",
    "            a+=1      "
   ]
  },
  {
   "cell_type": "code",
   "execution_count": 86,
   "metadata": {},
   "outputs": [
    {
     "data": {
      "text/html": [
       "<script>\n",
       "    require.config({\n",
       "        paths: {\n",
       "            'echarts': '/nbextensions/echarts/echarts.min', 'wordcloud': '/nbextensions/echarts/echarts-wordcloud.min'\n",
       "        }\n",
       "    });\n",
       "</script>\n",
       "    <div id=\"9e8af5dbf0ed4842a7f89590b53d04ac\" style=\"width:800px;height:500px;\"></div>\n",
       "\n",
       "\n",
       "<script>\n",
       "    require(['echarts', 'wordcloud'], function(echarts) {\n",
       "        \n",
       "var myChart_9e8af5dbf0ed4842a7f89590b53d04ac = echarts.init(document.getElementById('9e8af5dbf0ed4842a7f89590b53d04ac'), 'light', {renderer: 'canvas'});\n",
       "\n",
       "var option_9e8af5dbf0ed4842a7f89590b53d04ac = {\n",
       "    \"title\": [\n",
       "        {\n",
       "            \"left\": \"auto\",\n",
       "            \"top\": \"auto\",\n",
       "            \"textStyle\": {\n",
       "                \"fontSize\": 18\n",
       "            },\n",
       "            \"subtextStyle\": {\n",
       "                \"fontSize\": 12\n",
       "            }\n",
       "        }\n",
       "    ],\n",
       "    \"toolbox\": {\n",
       "        \"show\": true,\n",
       "        \"orient\": \"vertical\",\n",
       "        \"left\": \"95%\",\n",
       "        \"top\": \"center\",\n",
       "        \"feature\": {\n",
       "            \"saveAsImage\": {\n",
       "                \"show\": true,\n",
       "                \"title\": \"save as image\"\n",
       "            },\n",
       "            \"restore\": {\n",
       "                \"show\": true,\n",
       "                \"title\": \"restore\"\n",
       "            },\n",
       "            \"dataView\": {\n",
       "                \"show\": true,\n",
       "                \"title\": \"data view\"\n",
       "            }\n",
       "        }\n",
       "    },\n",
       "    \"series_id\": 2884067,\n",
       "    \"tooltip\": {\n",
       "        \"trigger\": \"item\",\n",
       "        \"triggerOn\": \"mousemove|click\",\n",
       "        \"axisPointer\": {\n",
       "            \"type\": \"line\"\n",
       "        },\n",
       "        \"textStyle\": {\n",
       "            \"fontSize\": 14\n",
       "        },\n",
       "        \"backgroundColor\": \"rgba(50,50,50,0.7)\",\n",
       "        \"borderColor\": \"#333\",\n",
       "        \"borderWidth\": 0\n",
       "    },\n",
       "    \"series\": [\n",
       "        {\n",
       "            \"type\": \"wordCloud\",\n",
       "            \"shape\": \"circle\",\n",
       "            \"rotationRange\": [\n",
       "                -90,\n",
       "                90\n",
       "            ],\n",
       "            \"rotationStep\": 45,\n",
       "            \"girdSize\": 20,\n",
       "            \"sizeRange\": [\n",
       "                20,\n",
       "                50\n",
       "            ],\n",
       "            \"data\": [\n",
       "                {\n",
       "                    \"name\": \"\\u91c7\\u5149\\u826f\\u597d\",\n",
       "                    \"value\": 17,\n",
       "                    \"textStyle\": {\n",
       "                        \"normal\": {\n",
       "                            \"color\": \"rgb(56,27,134)\"\n",
       "                        }\n",
       "                    }\n",
       "                },\n",
       "                {\n",
       "                    \"name\": \"\\u5e72\\u51c0\\u8212\\u9002\",\n",
       "                    \"value\": 20,\n",
       "                    \"textStyle\": {\n",
       "                        \"normal\": {\n",
       "                            \"color\": \"rgb(140,17,11)\"\n",
       "                        }\n",
       "                    }\n",
       "                },\n",
       "                {\n",
       "                    \"name\": \"\\u62ce\\u5305\\u5165\\u4f4f\",\n",
       "                    \"value\": 300,\n",
       "                    \"textStyle\": {\n",
       "                        \"normal\": {\n",
       "                            \"color\": \"rgb(123,75,50)\"\n",
       "                        }\n",
       "                    }\n",
       "                },\n",
       "                {\n",
       "                    \"name\": \"\\u968f\\u65f6\\u770b\\u623f\",\n",
       "                    \"value\": 484,\n",
       "                    \"textStyle\": {\n",
       "                        \"normal\": {\n",
       "                            \"color\": \"rgb(12,10,67)\"\n",
       "                        }\n",
       "                    }\n",
       "                },\n",
       "                {\n",
       "                    \"name\": \"\\u8c6a\\u534e\\u88c5\\u4fee\",\n",
       "                    \"value\": 18,\n",
       "                    \"textStyle\": {\n",
       "                        \"normal\": {\n",
       "                            \"color\": \"rgb(14,27,21)\"\n",
       "                        }\n",
       "                    }\n",
       "                },\n",
       "                {\n",
       "                    \"name\": \"\\u5bb6\\u7535\\u9f50\\u5168\",\n",
       "                    \"value\": 159,\n",
       "                    \"textStyle\": {\n",
       "                        \"normal\": {\n",
       "                            \"color\": \"rgb(6,107,141)\"\n",
       "                        }\n",
       "                    }\n",
       "                },\n",
       "                {\n",
       "                    \"name\": \"\\u5408\\u79df\",\n",
       "                    \"value\": 148,\n",
       "                    \"textStyle\": {\n",
       "                        \"normal\": {\n",
       "                            \"color\": \"rgb(140,74,157)\"\n",
       "                        }\n",
       "                    }\n",
       "                },\n",
       "                {\n",
       "                    \"name\": \"\\u62bc\\u4e00\\u4ed8\\u4e00\",\n",
       "                    \"value\": 662,\n",
       "                    \"textStyle\": {\n",
       "                        \"normal\": {\n",
       "                            \"color\": \"rgb(105,18,25)\"\n",
       "                        }\n",
       "                    }\n",
       "                },\n",
       "                {\n",
       "                    \"name\": \"\\u72ec\\u7acb\\u536b\\u6d74\",\n",
       "                    \"value\": 11,\n",
       "                    \"textStyle\": {\n",
       "                        \"normal\": {\n",
       "                            \"color\": \"rgb(118,11,15)\"\n",
       "                        }\n",
       "                    }\n",
       "                },\n",
       "                {\n",
       "                    \"name\": \"\\u8fd1\\u5730\\u94c1\",\n",
       "                    \"value\": 556,\n",
       "                    \"textStyle\": {\n",
       "                        \"normal\": {\n",
       "                            \"color\": \"rgb(72,92,1)\"\n",
       "                        }\n",
       "                    }\n",
       "                },\n",
       "                {\n",
       "                    \"name\": \"\\u65e0\\u4ef2\\u4ecb\\u8d39\",\n",
       "                    \"value\": 35,\n",
       "                    \"textStyle\": {\n",
       "                        \"normal\": {\n",
       "                            \"color\": \"rgb(46,47,74)\"\n",
       "                        }\n",
       "                    }\n",
       "                },\n",
       "                {\n",
       "                    \"name\": \"\\u5305\\u6c34\\u7535\\u7f51\",\n",
       "                    \"value\": 44,\n",
       "                    \"textStyle\": {\n",
       "                        \"normal\": {\n",
       "                            \"color\": \"rgb(100,22,61)\"\n",
       "                        }\n",
       "                    }\n",
       "                },\n",
       "                {\n",
       "                    \"name\": \"\\u53cc\\u5468\\u4fdd\\u6d01\",\n",
       "                    \"value\": 26,\n",
       "                    \"textStyle\": {\n",
       "                        \"normal\": {\n",
       "                            \"color\": \"rgb(156,62,106)\"\n",
       "                        }\n",
       "                    }\n",
       "                },\n",
       "                {\n",
       "                    \"name\": \"\\u5c0f\\u533a\\u623f\\u6e90\",\n",
       "                    \"value\": 35,\n",
       "                    \"textStyle\": {\n",
       "                        \"normal\": {\n",
       "                            \"color\": \"rgb(14,3,68)\"\n",
       "                        }\n",
       "                    }\n",
       "                },\n",
       "                {\n",
       "                    \"name\": \"\\u843d\\u5730\\u9633\\u53f0\",\n",
       "                    \"value\": 20,\n",
       "                    \"textStyle\": {\n",
       "                        \"normal\": {\n",
       "                            \"color\": \"rgb(26,75,41)\"\n",
       "                        }\n",
       "                    }\n",
       "                },\n",
       "                {\n",
       "                    \"name\": \"\\u7cbe\\u88c5\\u4e3b\\u5367\",\n",
       "                    \"value\": 115,\n",
       "                    \"textStyle\": {\n",
       "                        \"normal\": {\n",
       "                            \"color\": \"rgb(132,58,91)\"\n",
       "                        }\n",
       "                    }\n",
       "                },\n",
       "                {\n",
       "                    \"name\": \"\\u5ba2\\u5385\\u5f00\\u9614\",\n",
       "                    \"value\": 20,\n",
       "                    \"textStyle\": {\n",
       "                        \"normal\": {\n",
       "                            \"color\": \"rgb(31,62,89)\"\n",
       "                        }\n",
       "                    }\n",
       "                },\n",
       "                {\n",
       "                    \"name\": \"\\u6027\\u4ef7\\u6bd4\\u9ad8\",\n",
       "                    \"value\": 29,\n",
       "                    \"textStyle\": {\n",
       "                        \"normal\": {\n",
       "                            \"color\": \"rgb(50,152,144)\"\n",
       "                        }\n",
       "                    }\n",
       "                },\n",
       "                {\n",
       "                    \"name\": \"\\u72ec\\u7acb\\u53a8\\u536b\",\n",
       "                    \"value\": 19,\n",
       "                    \"textStyle\": {\n",
       "                        \"normal\": {\n",
       "                            \"color\": \"rgb(156,66,32)\"\n",
       "                        }\n",
       "                    }\n",
       "                },\n",
       "                {\n",
       "                    \"name\": \"\\u4ef7\\u683c\\u5408\\u9002\",\n",
       "                    \"value\": 68,\n",
       "                    \"textStyle\": {\n",
       "                        \"normal\": {\n",
       "                            \"color\": \"rgb(111,22,126)\"\n",
       "                        }\n",
       "                    }\n",
       "                },\n",
       "                {\n",
       "                    \"name\": \"\\u5c0f\\u533a\\u73af\\u5883\\u4f18\\u7f8e\",\n",
       "                    \"value\": 17,\n",
       "                    \"textStyle\": {\n",
       "                        \"normal\": {\n",
       "                            \"color\": \"rgb(4,116,36)\"\n",
       "                        }\n",
       "                    }\n",
       "                },\n",
       "                {\n",
       "                    \"name\": \"\\u5355\\u95f4\\u51fa\\u79df\",\n",
       "                    \"value\": 52,\n",
       "                    \"textStyle\": {\n",
       "                        \"normal\": {\n",
       "                            \"color\": \"rgb(152,18,151)\"\n",
       "                        }\n",
       "                    }\n",
       "                },\n",
       "                {\n",
       "                    \"name\": \"\\u7cbe\\u88c5\\u5168\\u914d\",\n",
       "                    \"value\": 213,\n",
       "                    \"textStyle\": {\n",
       "                        \"normal\": {\n",
       "                            \"color\": \"rgb(111,0,36)\"\n",
       "                        }\n",
       "                    }\n",
       "                },\n",
       "                {\n",
       "                    \"name\": \"\\u667a\\u80fd\\u95e8\\u9501\",\n",
       "                    \"value\": 147,\n",
       "                    \"textStyle\": {\n",
       "                        \"normal\": {\n",
       "                            \"color\": \"rgb(117,7,6)\"\n",
       "                        }\n",
       "                    }\n",
       "                },\n",
       "                {\n",
       "                    \"name\": \"wifi\",\n",
       "                    \"value\": 46,\n",
       "                    \"textStyle\": {\n",
       "                        \"normal\": {\n",
       "                            \"color\": \"rgb(95,67,82)\"\n",
       "                        }\n",
       "                    }\n",
       "                },\n",
       "                {\n",
       "                    \"name\": \"\\u6210\\u719f\\u5546\\u5708\",\n",
       "                    \"value\": 0,\n",
       "                    \"textStyle\": {\n",
       "                        \"normal\": {\n",
       "                            \"color\": \"rgb(100,120,67)\"\n",
       "                        }\n",
       "                    }\n",
       "                },\n",
       "                {\n",
       "                    \"name\": \"\\u53ef\\u505a\\u996d\",\n",
       "                    \"value\": 22,\n",
       "                    \"textStyle\": {\n",
       "                        \"normal\": {\n",
       "                            \"color\": \"rgb(128,104,43)\"\n",
       "                        }\n",
       "                    }\n",
       "                }\n",
       "            ]\n",
       "        }\n",
       "    ],\n",
       "    \"legend\": [\n",
       "        {\n",
       "            \"data\": [],\n",
       "            \"selectedMode\": \"multiple\",\n",
       "            \"show\": true,\n",
       "            \"left\": \"center\",\n",
       "            \"top\": \"top\",\n",
       "            \"orient\": \"horizontal\",\n",
       "            \"textStyle\": {\n",
       "                \"fontSize\": 12\n",
       "            }\n",
       "        }\n",
       "    ],\n",
       "    \"animation\": true,\n",
       "    \"color\": [\n",
       "        \"#c23531\",\n",
       "        \"#2f4554\",\n",
       "        \"#61a0a8\",\n",
       "        \"#d48265\",\n",
       "        \"#749f83\",\n",
       "        \"#ca8622\",\n",
       "        \"#bda29a\",\n",
       "        \"#6e7074\",\n",
       "        \"#546570\",\n",
       "        \"#c4ccd3\",\n",
       "        \"#f05b72\",\n",
       "        \"#ef5b9c\",\n",
       "        \"#f47920\",\n",
       "        \"#905a3d\",\n",
       "        \"#fab27b\",\n",
       "        \"#2a5caa\",\n",
       "        \"#444693\",\n",
       "        \"#726930\",\n",
       "        \"#b2d235\",\n",
       "        \"#6d8346\",\n",
       "        \"#ac6767\",\n",
       "        \"#1d953f\",\n",
       "        \"#6950a1\",\n",
       "        \"#918597\",\n",
       "        \"#f6f5ec\"\n",
       "    ]\n",
       "};\n",
       "myChart_9e8af5dbf0ed4842a7f89590b53d04ac.setOption(option_9e8af5dbf0ed4842a7f89590b53d04ac);\n",
       "\n",
       "    });\n",
       "</script>\n"
      ],
      "text/plain": [
       "<pyecharts.charts.wordcloud.WordCloud at 0x11fa3fef0>"
      ]
     },
     "execution_count": 86,
     "metadata": {},
     "output_type": "execute_result"
    }
   ],
   "source": [
    "from pyecharts import WordCloud\n",
    "wordcloud=WordCloud(width=800,height=500)\n",
    "wordcloud.add('',tup.keys(),tup.values(),word_size_range=[20,50])\n",
    "wordcloud"
   ]
  },
  {
   "cell_type": "markdown",
   "metadata": {},
   "source": [
    "# 五、数据分析结论"
   ]
  },
  {
   "cell_type": "markdown",
   "metadata": {},
   "source": [
    "- 上海各区租房价格平均值为 3277.3 元/月，对于一般打工族来说，确实是很大一笔支出\n",
    "- 从地区上来看，浦东、普陀、静安、闵行的房源数多，虽然地理位置随离城中心较远，但其房租相对较低\n",
    "- 南北朝向的房源最贵，却房源较少；租房可以考虑东南朝向的房源，其房源数量较多，且租金较低为 1684.15 元/月\n",
    "- 如果租房者在市区中心工作，那么可以优先杨浦区的房源，其离市中心较近，房租也相对较低，为 2578.17 元/月\n",
    "- 对于每天通勤的租房者来说，地铁线附近房源很充足，假如不喜欢每天挤地铁，也可以选择公司附近避开地铁线的房源，这样选择将会更多\n",
    "- 从词云图来看，房源大多都是押一付一，支持随时看房"
   ]
  }
 ],
 "metadata": {
  "kernelspec": {
   "display_name": "Python 3",
   "language": "python",
   "name": "python3"
  },
  "language_info": {
   "codemirror_mode": {
    "name": "ipython",
    "version": 3
   },
   "file_extension": ".py",
   "mimetype": "text/x-python",
   "name": "python",
   "nbconvert_exporter": "python",
   "pygments_lexer": "ipython3",
   "version": "3.7.2"
  }
 },
 "nbformat": 4,
 "nbformat_minor": 2
}
